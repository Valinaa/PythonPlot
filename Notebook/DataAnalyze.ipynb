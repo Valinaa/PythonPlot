{
 "cells": [
  {
   "cell_type": "code",
   "execution_count": 1,
   "id": "cc579677",
   "metadata": {
    "cell_style": "center",
    "code_folding": [
     11,
     17
    ]
   },
   "outputs": [
    {
     "name": "stdout",
     "output_type": "stream",
     "text": [
      "   Time coinType  limit move\n",
      "0     1      BNB      0.0328\n",
      "1     2      BNB      0.0015\n",
      "2     3      BNB     -0.0161\n",
      "3     4      BNB     -0.0698\n",
      "4     5      BNB      0.0272\n"
     ]
    }
   ],
   "source": [
    "import numpy as np\n",
    "import pandas as pd\n",
    "import matplotlib.pyplot as plt\n",
    "import seaborn as sns\n",
    "import plotly.express as px\n",
    "# 解决中文显示问题\n",
    "# 指定默认字体\n",
    "plt.rcParams['font.sans-serif'] = ['KaiTi']# type: ignore #\n",
    "# 解决保存图像是负号'-'显示为方块的问题\n",
    "plt.rcParams['axes.unicode_minus'] = False# type: ignore #\n",
    "sns.set()\n",
    "sns.set_style(\"whitegrid\")\n",
    "testData = pd.DataFrame(np.random.randn(5, 4),\n",
    "                        index=['a', 'b', 'c', 'd', 'e'],\n",
    "                        columns=['A', 'B', 'C', 'D'])\n",
    "# 导入数据\n",
    "coinData = pd.read_excel(\"E:\\\\PythonProject\\\\Data\\\\coins data.xlsx\", \"Sheet1\")\n",
    "newData = coinData.melt(id_vars=['Time'],\n",
    "                        var_name=\"coinType\",\n",
    "                        value_name=\"limit move\")\n",
    "print(newData.head())"
   ]
  },
  {
   "cell_type": "markdown",
   "id": "60403f64",
   "metadata": {
    "cell_style": "center",
    "heading_collapsed": true
   },
   "source": [
    "# Numpy"
   ]
  },
  {
   "cell_type": "code",
   "execution_count": 2,
   "id": "cae62f18",
   "metadata": {
    "cell_style": "center",
    "hidden": true
   },
   "outputs": [
    {
     "name": "stdout",
     "output_type": "stream",
     "text": [
      "[[0 0 0]\n",
      " [0 0 0]\n",
      " [0 0 0]\n",
      " [0 0 0]]\n",
      "数组维数：2\n"
     ]
    }
   ],
   "source": [
    "array1 = np.zeros((\n",
    "    4,3),\n",
    "    dtype=int)\n",
    "print(array1)\n",
    "print(\"数组维数：\" + str(array1.ndim))\n",
    "# HACK 这里有点拿不准\n",
    "# NOTE 添加点说明\n",
    "# INFO 这是一些信息\n",
    "# TAG 这是一种标记\n",
    "# FIXME 我需要修复！\n",
    "# XXX 这是随笔"
   ]
  },
  {
   "cell_type": "markdown",
   "id": "26961d01",
   "metadata": {
    "heading_collapsed": true
   },
   "source": [
    "# Pandas"
   ]
  },
  {
   "cell_type": "markdown",
   "id": "557cd2a2",
   "metadata": {
    "heading_collapsed": true,
    "hidden": true,
    "tags": []
   },
   "source": [
    "## 数据结构"
   ]
  },
  {
   "cell_type": "markdown",
   "id": "8e8dd9a5",
   "metadata": {
    "heading_collapsed": true,
    "hidden": true
   },
   "source": [
    "### Series"
   ]
  },
  {
   "cell_type": "markdown",
   "id": "4a4902e8",
   "metadata": {
    "hidden": true
   },
   "source": [
    "类似一维数组，由一组数据值和一组标签组成，且一一对应；<br>\n",
    "可以保存任何数据类型，如整数、字符串、对象等，它的标签默认为整数，从 0 开始依次递增(隐式索引)."
   ]
  },
  {
   "cell_type": "markdown",
   "id": "3610d1c5",
   "metadata": {
    "heading_collapsed": true,
    "hidden": true,
    "tags": []
   },
   "source": [
    "#### 创建对象\n",
    "pd.Series(data,index,dtype,copy)"
   ]
  },
  {
   "cell_type": "code",
   "execution_count": 3,
   "id": "97c09b50",
   "metadata": {
    "hidden": true
   },
   "outputs": [
    {
     "name": "stdout",
     "output_type": "stream",
     "text": [
      "标准创建：\n",
      "0    a\n",
      "1    b\n",
      "2    c\n",
      "3    d\n",
      "dtype: object\n",
      "自定义索引：\n",
      "150    a\n",
      "160    b\n",
      "170    c\n",
      "180    d\n",
      "dtype: object\n"
     ]
    }
   ],
   "source": [
    "data = np.array([\"a\", \"b\", \"c\", \"d\"])\n",
    "standard = pd.Series(data)\n",
    "print(\"标准创建：\")\n",
    "print(standard)\n",
    "diy = pd.Series(data, index=[150, 160, 170, 180])\n",
    "print(\"自定义索引：\")\n",
    "print(diy)\n",
    "# TODO 事情还没做完呢"
   ]
  },
  {
   "cell_type": "markdown",
   "id": "c4141734",
   "metadata": {
    "heading_collapsed": true,
    "hidden": true
   },
   "source": [
    "#### 属性与方法"
   ]
  },
  {
   "cell_type": "markdown",
   "id": "f5e3ea89",
   "metadata": {
    "hidden": true
   },
   "source": [
    "axes：列表形式返回所有行索引标签<br>\n",
    "dtype:返回数据类型<br>\n",
    "empty:返回空对象<br>\n",
    "ndim:返回维数<br>\n",
    "size:返回元素数量<br>\n",
    "values:ndarray形式返回Series对象<br>\n",
    "index:返回RangeIndex对象，描述索引取值范围<br>\n",
    "head(),tail():返回前(后)n行数据,默认为5<br>\n",
    "isnull(),notnull():若值不存在或缺失，返回True(False)"
   ]
  },
  {
   "cell_type": "code",
   "execution_count": 4,
   "id": "116b9691",
   "metadata": {
    "cell_style": "center",
    "hidden": true
   },
   "outputs": [
    {
     "name": "stdout",
     "output_type": "stream",
     "text": [
      "0    0.458131\n",
      "1    0.637244\n",
      "2    1.464368\n",
      "3   -2.538495\n",
      "4   -0.427721\n",
      "dtype: float64\n",
      "The axes are:\n",
      "[RangeIndex(start=0, stop=5, step=1)]\n",
      "The dtype is:\n",
      "float64\n",
      "是否为空对象?\n",
      "False\n",
      "维数\n",
      "1\n",
      "数量\n",
      "5\n",
      "输出series中数据\n",
      "[ 0.45813051  0.63724446  1.46436802 -2.53849462 -0.42772051]\n",
      "索引范围：\n",
      "RangeIndex(start=0, stop=5, step=1)\n"
     ]
    }
   ],
   "source": [
    "s = pd.Series(np.random.randn(5))\n",
    "print(s)\n",
    "print(\"The axes are:\")\n",
    "print(s.axes)\n",
    "print(\"The dtype is:\")\n",
    "print(s.dtype)\n",
    "print(\"是否为空对象?\")\n",
    "print(s.empty)\n",
    "print(\"维数\")\n",
    "print(s.ndim)\n",
    "print(\"数量\")\n",
    "print(s.size)\n",
    "print(\"输出series中数据\")\n",
    "print(s.values)\n",
    "print(\"索引范围：\")\n",
    "print(s.index)"
   ]
  },
  {
   "cell_type": "markdown",
   "id": "f4fb0a77",
   "metadata": {
    "heading_collapsed": true,
    "hidden": true
   },
   "source": [
    "### DataFrame"
   ]
  },
  {
   "cell_type": "markdown",
   "id": "1551806c",
   "metadata": {
    "heading_collapsed": true,
    "hidden": true
   },
   "source": [
    "## 索引选取数据\n",
    "loc\\[\\]:基于标签索引选取数据,取值前闭后闭<br>\n",
    "iloc\\[\\]:基于整数索引选取数据,取值前闭后开<br>\n",
    "接收两个参数，分别表示行、列"
   ]
  },
  {
   "cell_type": "markdown",
   "id": "f6a42b1b",
   "metadata": {
    "heading_collapsed": true,
    "hidden": true
   },
   "source": [
    "### loc\\[ \\]"
   ]
  },
  {
   "cell_type": "code",
   "execution_count": 5,
   "id": "de7c8cfb",
   "metadata": {
    "hidden": true
   },
   "outputs": [
    {
     "name": "stdout",
     "output_type": "stream",
     "text": [
      "原数据：\n",
      "          A         B         C         D\n",
      "a -1.102567  0.754966  2.474365 -1.059359\n",
      "b -1.535753  0.436826 -0.212782  1.539264\n",
      "c  1.335164  0.112614 -0.283713  0.319878\n",
      "d -1.319186  0.262197 -1.470628 -0.121604\n",
      "e -0.235880  1.063341 -0.282005 -0.956527\n",
      "loc[['a','c'],['A','C']]:\n",
      "          A         C\n",
      "a -1.102567  2.474365\n",
      "c  1.335164 -0.283713\n",
      "loc[:,'D']:\n",
      "a   -1.059359\n",
      "b    1.539264\n",
      "c    0.319878\n",
      "d   -0.121604\n",
      "e   -0.956527\n",
      "Name: D, dtype: float64\n",
      "loc['a':'d',:]:\n",
      "          A         B         C         D\n",
      "a -1.102567  0.754966  2.474365 -1.059359\n",
      "b -1.535753  0.436826 -0.212782  1.539264\n",
      "c  1.335164  0.112614 -0.283713  0.319878\n",
      "d -1.319186  0.262197 -1.470628 -0.121604\n",
      "loc['a']>0:\n",
      "A    False\n",
      "B     True\n",
      "C     True\n",
      "D    False\n",
      "Name: a, dtype: bool\n"
     ]
    }
   ],
   "source": [
    "print(\"原数据：\")\n",
    "print(testData)\n",
    "print(\"loc[['a','c'],['A','C']]:\")\n",
    "print(testData.loc[['a','c'],['A','C']])\n",
    "print(\"loc[:,'D']:\")\n",
    "print(testData.loc[:,'D'])\n",
    "print(\"loc['a':'d',:]:\")\n",
    "print(testData.loc['a':'d',:])\n",
    "print(\"loc['a']>0:\")\n",
    "print(testData.loc['a']>0)"
   ]
  },
  {
   "cell_type": "markdown",
   "id": "31514cdc",
   "metadata": {
    "heading_collapsed": true,
    "hidden": true
   },
   "source": [
    "### iloc\\[ \\]"
   ]
  },
  {
   "cell_type": "code",
   "execution_count": 6,
   "id": "1c910e61",
   "metadata": {
    "hidden": true
   },
   "outputs": [
    {
     "name": "stdout",
     "output_type": "stream",
     "text": [
      "原数据：\n",
      "          A         B         C         D\n",
      "a -1.102567  0.754966  2.474365 -1.059359\n",
      "b -1.535753  0.436826 -0.212782  1.539264\n",
      "c  1.335164  0.112614 -0.283713  0.319878\n",
      "d -1.319186  0.262197 -1.470628 -0.121604\n",
      "e -0.235880  1.063341 -0.282005 -0.956527\n",
      "iloc[2:]:\n",
      "          A         B         C         D\n",
      "c  1.335164  0.112614 -0.283713  0.319878\n",
      "d -1.319186  0.262197 -1.470628 -0.121604\n",
      "e -0.235880  1.063341 -0.282005 -0.956527\n",
      "iloc[[1,3],[0,2]]:\n",
      "          A         C\n",
      "b -1.535753 -0.212782\n",
      "d -1.319186 -1.470628\n",
      "iloc[:,0:2]:\n",
      "          A         B\n",
      "a -1.102567  0.754966\n",
      "b -1.535753  0.436826\n",
      "c  1.335164  0.112614\n",
      "d -1.319186  0.262197\n",
      "e -0.235880  1.063341\n"
     ]
    }
   ],
   "source": [
    "print(\"原数据：\")\n",
    "print(testData)\n",
    "print(\"iloc[2:]:\")\n",
    "print(testData.iloc[2:])\n",
    "print(\"iloc[[1,3],[0,2]]:\")\n",
    "print(testData.iloc[[1,3],[0,2]])\n",
    "print(\"iloc[:,0:2]:\")\n",
    "print(testData.iloc[:,0:2])"
   ]
  },
  {
   "cell_type": "markdown",
   "id": "e69f6ce5",
   "metadata": {
    "heading_collapsed": true,
    "jp-MarkdownHeadingCollapsed": true,
    "tags": []
   },
   "source": [
    "# Seaborn"
   ]
  },
  {
   "cell_type": "markdown",
   "id": "4db03d46",
   "metadata": {
    "heading_collapsed": true,
    "hidden": true
   },
   "source": [
    "## 数据分类"
   ]
  },
  {
   "cell_type": "markdown",
   "id": "45c13497",
   "metadata": {
    "heading_collapsed": true,
    "hidden": true
   },
   "source": [
    "### 散点图\n",
    "常用参数主要包括：<br>\n",
    "**x**:散点图的x轴数据，一般为分类型数据<br>\n",
    "**y**:散点图的y轴数据，一般为数值型数据<br>\n",
    "**hue**:区分维度，相当于增加了第三个参数<br>\n",
    "**data**: dataframe对象，以上几个参数一般为data中的某一列<br>\n",
    "<span class=\"mark\">stripplot</span>:常规散点图接口，设置jitter参数为False时，散点图均严格位于一条直线上<br>\n",
    "<span class=\"mark\">swarmplot</span>:将散点一字排开，便于直观观察散点的分布聚集情况<br>\n",
    "数据较多时，建议使用stripplot\n"
   ]
  },
  {
   "cell_type": "code",
   "execution_count": 7,
   "id": "4ef991bc",
   "metadata": {
    "hidden": true
   },
   "outputs": [
    {
     "data": {
      "text/plain": [
       "<AxesSubplot:xlabel='coinType', ylabel='limit move'>"
      ]
     },
     "execution_count": 7,
     "metadata": {},
     "output_type": "execute_result"
    },
    {
     "data": {
      "image/png": "[encoded data removed]",
      "text/plain": [
       "<Figure size 432x288 with 1 Axes>"
      ]
     },
     "metadata": {},
     "output_type": "display_data"
    }
   ],
   "source": [
    "sns.stripplot(x='coinType', y='limit move', data=newData)"
   ]
  },
  {
   "cell_type": "code",
   "execution_count": 8,
   "id": "389ba014",
   "metadata": {
    "hidden": true
   },
   "outputs": [
    {
     "name": "stderr",
     "output_type": "stream",
     "text": [
      "e:\\Anaconda3\\lib\\site-packages\\seaborn\\categorical.py:1296: UserWarning: 34.4% of the points cannot be placed; you may want to decrease the size of the markers or use stripplot.\n",
      "  warnings.warn(msg, UserWarning)\n",
      "e:\\Anaconda3\\lib\\site-packages\\seaborn\\categorical.py:1296: UserWarning: 23.0% of the points cannot be placed; you may want to decrease the size of the markers or use stripplot.\n",
      "  warnings.warn(msg, UserWarning)\n",
      "e:\\Anaconda3\\lib\\site-packages\\seaborn\\categorical.py:1296: UserWarning: 27.9% of the points cannot be placed; you may want to decrease the size of the markers or use stripplot.\n",
      "  warnings.warn(msg, UserWarning)\n",
      "e:\\Anaconda3\\lib\\site-packages\\seaborn\\categorical.py:1296: UserWarning: 24.6% of the points cannot be placed; you may want to decrease the size of the markers or use stripplot.\n",
      "  warnings.warn(msg, UserWarning)\n",
      "e:\\Anaconda3\\lib\\site-packages\\seaborn\\categorical.py:1296: UserWarning: 29.5% of the points cannot be placed; you may want to decrease the size of the markers or use stripplot.\n",
      "  warnings.warn(msg, UserWarning)\n",
      "e:\\Anaconda3\\lib\\site-packages\\seaborn\\categorical.py:1296: UserWarning: 91.8% of the points cannot be placed; you may want to decrease the size of the markers or use stripplot.\n",
      "  warnings.warn(msg, UserWarning)\n",
      "e:\\Anaconda3\\lib\\site-packages\\seaborn\\categorical.py:1296: UserWarning: 37.7% of the points cannot be placed; you may want to decrease the size of the markers or use stripplot.\n",
      "  warnings.warn(msg, UserWarning)\n"
     ]
    },
    {
     "data": {
      "text/plain": [
       "<AxesSubplot:xlabel='coinType', ylabel='limit move'>"
      ]
     },
     "execution_count": 8,
     "metadata": {},
     "output_type": "execute_result"
    },
    {
     "data": {
      "image/png": "[encoded data removed]",
      "text/plain": [
       "<Figure size 432x288 with 1 Axes>"
      ]
     },
     "metadata": {},
     "output_type": "display_data"
    }
   ],
   "source": [
    "sns.swarmplot(x='coinType', y='limit move', data=newData)"
   ]
  },
  {
   "cell_type": "markdown",
   "id": "dbbca3f9",
   "metadata": {
    "heading_collapsed": true,
    "hidden": true
   },
   "source": [
    "### 分布图\n",
    "参数基本等同散点图<br>\n",
    "<span class=\"mark\">boxplot</span>:箱线图，表达各分类下数据4分位数和离群点信息，常用于查看数据异常值等<br>\n",
    "<span class=\"mark\">boxenplot</span>:=box+enhenced+plot，在标准箱线图基础上增加了更多的分位数信息，绘图效果更为美观，信息量更大<br>\n",
    "<span class=\"mark\">violinplot</span>:小提琴图，=boxplot+kdeplot，在标准箱线图基础上增加了kde图的信息，可更直观的查看数据分布情况。在hue分类仅有2个取值时，可通过设置split参数实现左右数据合并显示<br>"
   ]
  },
  {
   "cell_type": "code",
   "execution_count": 9,
   "id": "dad51f2f",
   "metadata": {
    "code_folding": [],
    "hidden": true
   },
   "outputs": [
    {
     "data": {
      "text/plain": [
       "<AxesSubplot:xlabel='coinType', ylabel='limit move'>"
      ]
     },
     "execution_count": 9,
     "metadata": {},
     "output_type": "execute_result"
    },
    {
     "data": {
      "image/png": "[encoded data removed]",
      "text/plain": [
       "<Figure size 432x288 with 1 Axes>"
      ]
     },
     "metadata": {},
     "output_type": "display_data"
    }
   ],
   "source": [
    "sns.boxplot(x='coinType', y='limit move', data=newData)"
   ]
  },
  {
   "cell_type": "code",
   "execution_count": 10,
   "id": "d408ec01",
   "metadata": {
    "hidden": true
   },
   "outputs": [
    {
     "data": {
      "text/plain": [
       "<AxesSubplot:xlabel='coinType', ylabel='limit move'>"
      ]
     },
     "execution_count": 10,
     "metadata": {},
     "output_type": "execute_result"
    },
    {
     "data": {
      "image/png": "[encoded data removed]",
      "text/plain": [
       "<Figure size 432x288 with 1 Axes>"
      ]
     },
     "metadata": {},
     "output_type": "display_data"
    }
   ],
   "source": [
    "sns.boxenplot(x='coinType', y='limit move', data=newData)"
   ]
  },
  {
   "cell_type": "code",
   "execution_count": 11,
   "id": "a9d3e0e5",
   "metadata": {
    "hidden": true
   },
   "outputs": [
    {
     "data": {
      "text/plain": [
       "<AxesSubplot:xlabel='coinType', ylabel='limit move'>"
      ]
     },
     "execution_count": 11,
     "metadata": {},
     "output_type": "execute_result"
    },
    {
     "data": {
      "image/png": "[encoded data removed]",
      "text/plain": [
       "<Figure size 432x288 with 1 Axes>"
      ]
     },
     "metadata": {},
     "output_type": "display_data"
    }
   ],
   "source": [
    "sns.violinplot(x='coinType', y='limit move', data=newData)"
   ]
  },
  {
   "cell_type": "markdown",
   "id": "c58a156d",
   "metadata": {
    "heading_collapsed": true,
    "hidden": true
   },
   "source": [
    "### 统计(估计)图\n",
    "pointplot:给出数据的统计量（默认统计量为均值）和相应置信区间（默认值为95%,即参数ci=95），并以相应的点和线进行绘图显示<br>\n",
    "barplot:以柱状图表达统计量，而置信区间则与前者一致，仅仅是适用场景不同而已<br>\n",
    "**注**：当x轴分类变量为连续日期数据时，选用pointplot得到的绘图意义更为明确；而对于其他分类型变量，则选用barplot更为合适<br>\n",
    "countplot:仅用于表达各分类值计数，并以柱状图的形式展现"
   ]
  },
  {
   "cell_type": "code",
   "execution_count": 12,
   "id": "dc37340c",
   "metadata": {
    "hidden": true
   },
   "outputs": [
    {
     "data": {
      "text/plain": [
       "<AxesSubplot:xlabel='coinType', ylabel='limit move'>"
      ]
     },
     "execution_count": 12,
     "metadata": {},
     "output_type": "execute_result"
    },
    {
     "data": {
      "image/png": "[encoded data removed]",
      "text/plain": [
       "<Figure size 432x288 with 1 Axes>"
      ]
     },
     "metadata": {},
     "output_type": "display_data"
    }
   ],
   "source": [
    "sns.pointplot(x='coinType', y='limit move', data=newData)"
   ]
  },
  {
   "cell_type": "code",
   "execution_count": 13,
   "id": "985b586a",
   "metadata": {
    "hidden": true
   },
   "outputs": [
    {
     "data": {
      "text/plain": [
       "<AxesSubplot:xlabel='coinType', ylabel='limit move'>"
      ]
     },
     "execution_count": 13,
     "metadata": {},
     "output_type": "execute_result"
    },
    {
     "data": {
      "image/png": "[encoded data removed]",
      "text/plain": [
       "<Figure size 432x288 with 1 Axes>"
      ]
     },
     "metadata": {},
     "output_type": "display_data"
    }
   ],
   "source": [
    "sns.barplot(x='coinType', y='limit move', data=newData)"
   ]
  },
  {
   "cell_type": "markdown",
   "id": "da5b4aa2",
   "metadata": {
    "heading_collapsed": true,
    "hidden": true
   },
   "source": [
    "### figure-level分类绘图总接口\n",
    "<span style=\"color:orange\">catplot</span>: =category+plot,与其他分类数据绘图接口的关系相当于lmplot 与regplot的关系.同时catplot中还可通过kind参数实现前面除countplot外的所有绘图接口，功能更为强大。kind默认为strip，此时等效于stripplot接口"
   ]
  },
  {
   "cell_type": "code",
   "execution_count": 14,
   "id": "900290ba",
   "metadata": {
    "hidden": true
   },
   "outputs": [
    {
     "data": {
      "text/plain": [
       "<seaborn.axisgrid.FacetGrid at 0x2072fa6c9d0>"
      ]
     },
     "execution_count": 14,
     "metadata": {},
     "output_type": "execute_result"
    },
    {
     "data": {
      "image/png": "[encoded data removed]",
      "text/plain": [
       "<Figure size 360x360 with 1 Axes>"
      ]
     },
     "metadata": {},
     "output_type": "display_data"
    }
   ],
   "source": [
    "sns.catplot(x='coinType', y='limit move', data=newData,kind='violin')"
   ]
  },
  {
   "cell_type": "markdown",
   "id": "2fbc3efd",
   "metadata": {
    "hidden": true
   },
   "source": [
    "## 其他"
   ]
  },
  {
   "cell_type": "code",
   "execution_count": 15,
   "id": "cb31268e",
   "metadata": {
    "hidden": true
   },
   "outputs": [
    {
     "data": {
      "text/plain": [
       "<seaborn.axisgrid.FacetGrid at 0x20738c83ca0>"
      ]
     },
     "execution_count": 15,
     "metadata": {},
     "output_type": "execute_result"
    },
    {
     "data": {
      "image/png": "[encoded data removed]",
      "text/plain": [
       "<Figure size 446.225x360 with 1 Axes>"
      ]
     },
     "metadata": {},
     "output_type": "display_data"
    }
   ],
   "source": [
    "wideData=coinData.drop(labels=\"Time\",axis=1)\n",
    "sns.relplot(data=wideData,kind=\"line\")"
   ]
  },
  {
   "cell_type": "code",
   "execution_count": 16,
   "id": "5465150b",
   "metadata": {
    "hidden": true
   },
   "outputs": [
    {
     "data": {
      "text/plain": [
       "<seaborn.axisgrid.FacetGrid at 0x20738cfbfd0>"
      ]
     },
     "execution_count": 16,
     "metadata": {},
     "output_type": "execute_result"
    },
    {
     "data": {
      "image/png": "[encoded data removed]",
      "text/plain": [
       "<Figure size 1800x720 with 10 Axes>"
      ]
     },
     "metadata": {},
     "output_type": "display_data"
    }
   ],
   "source": [
    "#longData=newData.drop(labels=\"Time\",axis=1)\n",
    "sns.relplot(data=newData,\n",
    "            x=\"Time\",\n",
    "            y=\"limit move\",\n",
    "            kind=\"line\",\n",
    "            col=\"coinType\",\n",
    "            col_wrap=5)"
   ]
  },
  {
   "cell_type": "markdown",
   "id": "f0f00d5a",
   "metadata": {},
   "source": [
    "# Plotly Express"
   ]
  },
  {
   "cell_type": "code",
   "execution_count": 17,
   "id": "cef0f256",
   "metadata": {
    "code_folding": [],
    "scrolled": true
   },
   "outputs": [
    {
     "data": {
      "application/vnd.plotly.v1+json": {
       "config": {
        "plotlyServerURL": "https://plot.ly"
       },
       "data": [
        {
         "alignmentgroup": "True",
         "hovertemplate": "coinType=BNB<br>limit move=%{y}<extra></extra>",
         "legendgroup": "BNB",
         "marker": {
          "color": "#636efa"
         },
         "name": "BNB",
         "notched": false,
         "offsetgroup": "BNB",
         "orientation": "v",
         "showlegend": true,
         "type": "box",
         "x0": " ",
         "xaxis": "x",
         "y": [
          0.0328,
          0.0015,
          -0.0161,
          -0.0698,
          0.0272,
          -0.0255,
          0.0165,
          0.0018,
          0.0296,
          -0.0534,
          -0.0005,
          0.0013,
          -0.029,
          0.0324,
          -0.0051,
          0.0377,
          0.0169,
          0.0135,
          0.007,
          -0.0229,
          0.0135,
          0.0205,
          0.0102,
          0.0146,
          -0.0098,
          0.0143,
          0.0352,
          -0.0021,
          0.0104,
          0.0178,
          -0.0298,
          0.0437,
          -0.0241,
          0.0309,
          -0.0054,
          -0.0073,
          -0.0549,
          0.0384,
          -0.0337,
          0.0124,
          -0.0211,
          -0.0565,
          0.0494,
          0.0228,
          -0.0198,
          0.0061,
          -0.0003,
          -0.0247,
          0.0246,
          0.0129,
          -0.0093,
          -0.0318,
          0.004,
          -0.0135,
          -0.0055,
          0.0135,
          -0.0455,
          0.014,
          0.0406,
          -0.0349,
          -0.0407
         ],
         "y0": " ",
         "yaxis": "y"
        },
        {
         "alignmentgroup": "True",
         "hovertemplate": "coinType=Dogecoin<br>limit move=%{y}<extra></extra>",
         "legendgroup": "Dogecoin",
         "marker": {
          "color": "#EF553B"
         },
         "name": "Dogecoin",
         "notched": false,
         "offsetgroup": "Dogecoin",
         "orientation": "v",
         "showlegend": true,
         "type": "box",
         "x0": " ",
         "xaxis": "x",
         "y": [
          0.0036,
          -0.0069,
          -0.0251,
          -0.0555,
          0.0051,
          0.0054,
          -0.0551,
          0.0011,
          0.0376,
          -0.0379,
          -0.0126,
          -0.0061,
          -0.0271,
          0.0208,
          -0.0117,
          0.0391,
          -0.0057,
          0.0247,
          0.0363,
          -0.0363,
          0.0014,
          0.0268,
          0.0605,
          0.0536,
          -0.0434,
          0.0403,
          0.0642,
          -0.0182,
          0.0162,
          -0.01,
          -0.0347,
          0.0236,
          -0.0188,
          0.0548,
          0.0151,
          0.1616,
          -0.1705,
          0.0205,
          -0.0238,
          0.0113,
          0.0271,
          -0.0943,
          0.029,
          0.0135,
          0.0289,
          0.0141,
          -0.0165,
          -0.0304,
          0.0074,
          0.0172,
          -0.014,
          -0.0314,
          0.0013,
          -0.0189,
          -0.0153,
          0.1981,
          -0.1277,
          0.0166,
          -0.0176,
          -0.0189,
          -0.0552
         ],
         "y0": " ",
         "yaxis": "y"
        },
        {
         "alignmentgroup": "True",
         "hovertemplate": "coinType=Cardano<br>limit move=%{y}<extra></extra>",
         "legendgroup": "Cardano",
         "marker": {
          "color": "#00cc96"
         },
         "name": "Cardano",
         "notched": false,
         "offsetgroup": "Cardano",
         "orientation": "v",
         "showlegend": true,
         "type": "box",
         "x0": " ",
         "xaxis": "x",
         "y": [
          -0.0002,
          -0.0264,
          -0.0383,
          -0.0636,
          0.0229,
          -0.0486,
          -0.0343,
          0.0101,
          0.0578,
          -0.0491,
          -0.022,
          0.0011,
          -0.0025,
          0.0194,
          -0.0051,
          0.0497,
          -0.0034,
          0.0193,
          0.0601,
          -0.0271,
          0.0448,
          0.0619,
          0.135,
          0.0222,
          -0.0303,
          0.0512,
          0.0271,
          -0.0145,
          0.0197,
          -0.0006,
          -0.0402,
          0.0211,
          -0.009,
          0.0265,
          0.0228,
          -0.0345,
          -0.1014,
          0.0362,
          -0.0599,
          0.0198,
          -0.0183,
          -0.1035,
          0.0369,
          0.0209,
          -0.0421,
          0.0242,
          -0.0052,
          -0.038,
          0.0249,
          0.017,
          -0.0168,
          -0.0288,
          -0.0043,
          -0.0218,
          -0.0003,
          0.013,
          -0.0795,
          0.017,
          0.0037,
          -0.0458,
          -0.0598
         ],
         "y0": " ",
         "yaxis": "y"
        },
        {
         "alignmentgroup": "True",
         "hovertemplate": "coinType=IOTA<br>limit move=%{y}<extra></extra>",
         "legendgroup": "IOTA",
         "marker": {
          "color": "#ab63fa"
         },
         "name": "IOTA",
         "notched": false,
         "offsetgroup": "IOTA",
         "orientation": "v",
         "showlegend": true,
         "type": "box",
         "x0": " ",
         "xaxis": "x",
         "y": [
          0.0028,
          -0.0153,
          -0.0357,
          -0.0653,
          0.0368,
          -0.0593,
          0.0034,
          0.0153,
          0.0486,
          -0.0091,
          -0.0298,
          -0.0159,
          -0.0275,
          0.0463,
          -0.0124,
          0.0288,
          -0.0109,
          0.0168,
          0.0305,
          0.003,
          -0.0105,
          0.0399,
          0.0093,
          0.0297,
          -0.0278,
          0.0621,
          0.0532,
          -0.0326,
          0.0215,
          0.0302,
          -0.0425,
          0.0433,
          0.0008,
          0.0107,
          -0.0408,
          -0.0481,
          -0.1061,
          0.0403,
          -0.0569,
          0.0318,
          -0.0428,
          -0.0902,
          0.025,
          0.0238,
          -0.0262,
          0.0172,
          0.0008,
          -0.0434,
          0.0309,
          0.028,
          -0.0099,
          -0.0217,
          0.0156,
          0.0115,
          -0.0281,
          -0.0159,
          -0.0768,
          0.0284,
          -0.0014,
          -0.0695,
          -0.0747
         ],
         "y0": " ",
         "yaxis": "y"
        },
        {
         "alignmentgroup": "True",
         "hovertemplate": "coinType=Monero<br>limit move=%{y}<extra></extra>",
         "legendgroup": "Monero",
         "marker": {
          "color": "#FFA15A"
         },
         "name": "Monero",
         "notched": false,
         "offsetgroup": "Monero",
         "orientation": "v",
         "showlegend": true,
         "type": "box",
         "x0": " ",
         "xaxis": "x",
         "y": [
          0.0445,
          0.0001,
          -0.0325,
          -0.0722,
          0.0394,
          -0.0428,
          -0.0057,
          0.2861,
          -0.0728,
          -0.052,
          -0.0448,
          0.0862,
          -0.0497,
          0.0557,
          -0.0145,
          0.0333,
          -0.009,
          0.04,
          0.0119,
          -0.0143,
          -0.0159,
          0.0122,
          0.0181,
          0.0327,
          -0.0203,
          0.0367,
          0.0428,
          -0.0057,
          0.035,
          -0.0037,
          -0.0387,
          0.0257,
          -0.0254,
          0.022,
          0.0224,
          0,
          -0.0392,
          0.0588,
          -0.0391,
          0.1042,
          -0.0172,
          -0.0405,
          0.0255,
          0.0219,
          -0.0314,
          0.0427,
          -0.0128,
          0.0209,
          0.1031,
          -0.0461,
          0.0509,
          0.0434,
          -0.0359,
          -0.0067,
          -0.0521,
          0.0071,
          -0.0953,
          -0.0032,
          -0.0089,
          -0.0295,
          -0.0278
         ],
         "y0": " ",
         "yaxis": "y"
        },
        {
         "alignmentgroup": "True",
         "hovertemplate": "coinType=Solana<br>limit move=%{y}<extra></extra>",
         "legendgroup": "Solana",
         "marker": {
          "color": "#19d3f3"
         },
         "name": "Solana",
         "notched": false,
         "offsetgroup": "Solana",
         "orientation": "v",
         "showlegend": true,
         "type": "box",
         "x0": " ",
         "xaxis": "x",
         "y": [
          -0.0108,
          0.021,
          -0.0502,
          -0.0771,
          0.0153,
          -0.0567,
          -0.0326,
          0.0064,
          0.0702,
          -0.0592,
          -0.0266,
          0.0091,
          -0.0313,
          0.03,
          0.02,
          0.0597,
          0.0002,
          0.0225,
          0.0294,
          -0.0414,
          0.0002,
          0.0204,
          0.0498,
          0.0782,
          -0.0362,
          0.032,
          0.052,
          -0.0131,
          0.057,
          0.0807,
          0.0182,
          0.095,
          -0.0165,
          0.0334,
          -0.0341,
          -0.0405,
          -0.1088,
          0.0494,
          -0.0723,
          0.0255,
          -0.0157,
          -0.1037,
          0.0367,
          0.0165,
          -0.0394,
          0.0066,
          0.007,
          -0.0178,
          0.02,
          0.0613,
          -0.0279,
          -0.0359,
          -0.012,
          0.0005,
          -0.0135,
          0.0179,
          -0.0527,
          0.0276,
          -0.0009,
          -0.044,
          -0.0975
         ],
         "y0": " ",
         "yaxis": "y"
        },
        {
         "alignmentgroup": "True",
         "hovertemplate": "coinType=Stellar<br>limit move=%{y}<extra></extra>",
         "legendgroup": "Stellar",
         "marker": {
          "color": "#FF6692"
         },
         "name": "Stellar",
         "notched": false,
         "offsetgroup": "Stellar",
         "orientation": "v",
         "showlegend": true,
         "type": "box",
         "x0": " ",
         "xaxis": "x",
         "y": [
          0.0049,
          -0.0257,
          -0.0294,
          -0.0633,
          0.0244,
          -0.0421,
          -0.0116,
          0.0148,
          0.0895,
          -0.0534,
          0.0275,
          0.0075,
          -0.0458,
          0.0206,
          0.0137,
          0.0368,
          0.0015,
          0.0172,
          0.0395,
          -0.0164,
          0.0334,
          0.015,
          0.0125,
          0.0263,
          -0.0169,
          0.0208,
          0.065,
          -0.0015,
          0.0167,
          0.0065,
          -0.0272,
          0.0191,
          0.0012,
          0.0174,
          -0.0205,
          -0.0313,
          -0.0963,
          0.047,
          -0.05,
          0.0136,
          -0.0224,
          -0.069,
          0.0316,
          0.0208,
          -0.0125,
          0.0531,
          0.0056,
          -0.0427,
          0.0428,
          -0.0057,
          -0.0182,
          -0.0184,
          -0.0058,
          -0.0203,
          -0.0087,
          0.0134,
          -0.061,
          0.0209,
          0.0086,
          -0.0431,
          -0.0505
         ],
         "y0": " ",
         "yaxis": "y"
        },
        {
         "alignmentgroup": "True",
         "hovertemplate": "coinType=Tether<br>limit move=%{y}<extra></extra>",
         "legendgroup": "Tether",
         "marker": {
          "color": "#B6E880"
         },
         "name": "Tether",
         "notched": false,
         "offsetgroup": "Tether",
         "orientation": "v",
         "showlegend": true,
         "type": "box",
         "x0": " ",
         "xaxis": "x",
         "y": [
          0.0001,
          0,
          -0.0003,
          0.0002,
          0,
          0,
          -0.0001,
          -0.0001,
          0.0002,
          0.0002,
          -0.0003,
          0,
          0,
          0.0002,
          0,
          -0.0001,
          0,
          -0.0001,
          0,
          0,
          -0.0002,
          0,
          0.0001,
          0.0001,
          0,
          0,
          -0.0003,
          0.0002,
          0,
          -0.0001,
          0,
          0.0001,
          -0.0001,
          -0.0001,
          0,
          0,
          0.0001,
          -0.0001,
          0.0001,
          0,
          0.0002,
          -0.0002,
          0,
          0,
          -0.0002,
          0.0002,
          0,
          0.0001,
          -0.0002,
          0,
          0.0001,
          -0.0001,
          -0.0001,
          0.0002,
          0,
          -0.0002,
          -0.0001,
          0.0001,
          0,
          0,
          0.0003
         ],
         "y0": " ",
         "yaxis": "y"
        },
        {
         "alignmentgroup": "True",
         "hovertemplate": "coinType=Quant<br>limit move=%{y}<extra></extra>",
         "legendgroup": "Quant",
         "marker": {
          "color": "#FF97FF"
         },
         "name": "Quant",
         "notched": false,
         "offsetgroup": "Quant",
         "orientation": "v",
         "showlegend": true,
         "type": "box",
         "x0": " ",
         "xaxis": "x",
         "y": [
          0.03,
          -0.0097,
          0.0769,
          -0.0682,
          0.0209,
          -0.0891,
          0.0045,
          0.0036,
          0.0711,
          -0.0202,
          -0.03,
          0.0248,
          -0.0337,
          0.0116,
          -0.0256,
          0.0598,
          -0.0257,
          0.0202,
          0.0325,
          -0.0127,
          0.0078,
          0.0611,
          -0.0011,
          0.075,
          0.009,
          0.0274,
          0.0538,
          -0.0468,
          0.0224,
          -0.0124,
          -0.0376,
          0.027,
          -0.0082,
          -0.0035,
          -0.0042,
          -0.0409,
          -0.0712,
          0.028,
          -0.046,
          0.0025,
          -0.0103,
          -0.0485,
          0.0118,
          -0.005,
          -0.0279,
          0.0018,
          0.0037,
          -0.0182,
          0.0048,
          0.0266,
          -0.0335,
          -0.0256,
          0.0017,
          -0.0207,
          0.0455,
          -0.0248,
          -0.0668,
          0.0059,
          -0.0099,
          -0.0563,
          -0.0176
         ],
         "y0": " ",
         "yaxis": "y"
        },
        {
         "alignmentgroup": "True",
         "hovertemplate": "coinType=Bitcoin<br>limit move=%{y}<extra></extra>",
         "legendgroup": "Bitcoin",
         "marker": {
          "color": "#FECB52"
         },
         "name": "Bitcoin",
         "notched": false,
         "offsetgroup": "Bitcoin",
         "orientation": "v",
         "showlegend": true,
         "type": "box",
         "x0": " ",
         "xaxis": "x",
         "y": [
          0.0285,
          -0.0114,
          -0.033,
          -0.0782,
          0.0065,
          -0.0252,
          -0.0099,
          0.0189,
          0.0822,
          -0.0599,
          -0.0174,
          0.0022,
          -0.0263,
          0.0497,
          -0.0097,
          0.0467,
          -0.005,
          0.0208,
          0.0111,
          -0.0227,
          -0.0062,
          0.0329,
          0.0127,
          0.0257,
          0.0072,
          0.0049,
          0.0519,
          0.0052,
          0.0073,
          -0.0079,
          -0.0329,
          0.017,
          -0.0105,
          0.013,
          0.0048,
          -0.0241,
          -0.0513,
          0.0064,
          -0.027,
          0.0116,
          -0.0147,
          -0.0627,
          0.0147,
          0.0263,
          -0.0291,
          0.0156,
          -0.0044,
          -0.0168,
          0.0277,
          0.0172,
          -0.0033,
          -0.0214,
          -0.0191,
          -0.0073,
          0.0012,
          0.0244,
          -0.0572,
          0.0296,
          0.0129,
          -0.0294,
          -0.0241
         ],
         "y0": " ",
         "yaxis": "y"
        }
       ],
       "layout": {
        "boxmode": "group",
        "legend": {
         "title": {
          "text": "coinType"
         },
         "tracegroupgap": 0
        },
        "template": {
         "data": {
          "bar": [
           {
            "error_x": {
             "color": "#2a3f5f"
            },
            "error_y": {
             "color": "#2a3f5f"
            },
            "marker": {
             "line": {
              "color": "#E5ECF6",
              "width": 0.5
             },
             "pattern": {
              "fillmode": "overlay",
              "size": 10,
              "solidity": 0.2
             }
            },
            "type": "bar"
           }
          ],
          "barpolar": [
           {
            "marker": {
             "line": {
              "color": "#E5ECF6",
              "width": 0.5
             },
             "pattern": {
              "fillmode": "overlay",
              "size": 10,
              "solidity": 0.2
             }
            },
            "type": "barpolar"
           }
          ],
          "carpet": [
           {
            "aaxis": {
             "endlinecolor": "#2a3f5f",
             "gridcolor": "white",
             "linecolor": "white",
             "minorgridcolor": "white",
             "startlinecolor": "#2a3f5f"
            },
            "baxis": {
             "endlinecolor": "#2a3f5f",
             "gridcolor": "white",
             "linecolor": "white",
             "minorgridcolor": "white",
             "startlinecolor": "#2a3f5f"
            },
            "type": "carpet"
           }
          ],
          "choropleth": [
           {
            "colorbar": {
             "outlinewidth": 0,
             "ticks": ""
            },
            "type": "choropleth"
           }
          ],
          "contour": [
           {
            "colorbar": {
             "outlinewidth": 0,
             "ticks": ""
            },
            "colorscale": [
             [
              0,
              "#0d0887"
             ],
             [
              0.1111111111111111,
              "#46039f"
             ],
             [
              0.2222222222222222,
              "#7201a8"
             ],
             [
              0.3333333333333333,
              "#9c179e"
             ],
             [
              0.4444444444444444,
              "#bd3786"
             ],
             [
              0.5555555555555556,
              "#d8576b"
             ],
             [
              0.6666666666666666,
              "#ed7953"
             ],
             [
              0.7777777777777778,
              "#fb9f3a"
             ],
             [
              0.8888888888888888,
              "#fdca26"
             ],
             [
              1,
              "#f0f921"
             ]
            ],
            "type": "contour"
           }
          ],
          "contourcarpet": [
           {
            "colorbar": {
             "outlinewidth": 0,
             "ticks": ""
            },
            "type": "contourcarpet"
           }
          ],
          "heatmap": [
           {
            "colorbar": {
             "outlinewidth": 0,
             "ticks": ""
            },
            "colorscale": [
             [
              0,
              "#0d0887"
             ],
             [
              0.1111111111111111,
              "#46039f"
             ],
             [
              0.2222222222222222,
              "#7201a8"
             ],
             [
              0.3333333333333333,
              "#9c179e"
             ],
             [
              0.4444444444444444,
              "#bd3786"
             ],
             [
              0.5555555555555556,
              "#d8576b"
             ],
             [
              0.6666666666666666,
              "#ed7953"
             ],
             [
              0.7777777777777778,
              "#fb9f3a"
             ],
             [
              0.8888888888888888,
              "#fdca26"
             ],
             [
              1,
              "#f0f921"
             ]
            ],
            "type": "heatmap"
           }
          ],
          "heatmapgl": [
           {
            "colorbar": {
             "outlinewidth": 0,
             "ticks": ""
            },
            "colorscale": [
             [
              0,
              "#0d0887"
             ],
             [
              0.1111111111111111,
              "#46039f"
             ],
             [
              0.2222222222222222,
              "#7201a8"
             ],
             [
              0.3333333333333333,
              "#9c179e"
             ],
             [
              0.4444444444444444,
              "#bd3786"
             ],
             [
              0.5555555555555556,
              "#d8576b"
             ],
             [
              0.6666666666666666,
              "#ed7953"
             ],
             [
              0.7777777777777778,
              "#fb9f3a"
             ],
             [
              0.8888888888888888,
              "#fdca26"
             ],
             [
              1,
              "#f0f921"
             ]
            ],
            "type": "heatmapgl"
           }
          ],
          "histogram": [
           {
            "marker": {
             "pattern": {
              "fillmode": "overlay",
              "size": 10,
              "solidity": 0.2
             }
            },
            "type": "histogram"
           }
          ],
          "histogram2d": [
           {
            "colorbar": {
             "outlinewidth": 0,
             "ticks": ""
            },
            "colorscale": [
             [
              0,
              "#0d0887"
             ],
             [
              0.1111111111111111,
              "#46039f"
             ],
             [
              0.2222222222222222,
              "#7201a8"
             ],
             [
              0.3333333333333333,
              "#9c179e"
             ],
             [
              0.4444444444444444,
              "#bd3786"
             ],
             [
              0.5555555555555556,
              "#d8576b"
             ],
             [
              0.6666666666666666,
              "#ed7953"
             ],
             [
              0.7777777777777778,
              "#fb9f3a"
             ],
             [
              0.8888888888888888,
              "#fdca26"
             ],
             [
              1,
              "#f0f921"
             ]
            ],
            "type": "histogram2d"
           }
          ],
          "histogram2dcontour": [
           {
            "colorbar": {
             "outlinewidth": 0,
             "ticks": ""
            },
            "colorscale": [
             [
              0,
              "#0d0887"
             ],
             [
              0.1111111111111111,
              "#46039f"
             ],
             [
              0.2222222222222222,
              "#7201a8"
             ],
             [
              0.3333333333333333,
              "#9c179e"
             ],
             [
              0.4444444444444444,
              "#bd3786"
             ],
             [
              0.5555555555555556,
              "#d8576b"
             ],
             [
              0.6666666666666666,
              "#ed7953"
             ],
             [
              0.7777777777777778,
              "#fb9f3a"
             ],
             [
              0.8888888888888888,
              "#fdca26"
             ],
             [
              1,
              "#f0f921"
             ]
            ],
            "type": "histogram2dcontour"
           }
          ],
          "mesh3d": [
           {
            "colorbar": {
             "outlinewidth": 0,
             "ticks": ""
            },
            "type": "mesh3d"
           }
          ],
          "parcoords": [
           {
            "line": {
             "colorbar": {
              "outlinewidth": 0,
              "ticks": ""
             }
            },
            "type": "parcoords"
           }
          ],
          "pie": [
           {
            "automargin": true,
            "type": "pie"
           }
          ],
          "scatter": [
           {
            "fillpattern": {
             "fillmode": "overlay",
             "size": 10,
             "solidity": 0.2
            },
            "type": "scatter"
           }
          ],
          "scatter3d": [
           {
            "line": {
             "colorbar": {
              "outlinewidth": 0,
              "ticks": ""
             }
            },
            "marker": {
             "colorbar": {
              "outlinewidth": 0,
              "ticks": ""
             }
            },
            "type": "scatter3d"
           }
          ],
          "scattercarpet": [
           {
            "marker": {
             "colorbar": {
              "outlinewidth": 0,
              "ticks": ""
             }
            },
            "type": "scattercarpet"
           }
          ],
          "scattergeo": [
           {
            "marker": {
             "colorbar": {
              "outlinewidth": 0,
              "ticks": ""
             }
            },
            "type": "scattergeo"
           }
          ],
          "scattergl": [
           {
            "marker": {
             "colorbar": {
              "outlinewidth": 0,
              "ticks": ""
             }
            },
            "type": "scattergl"
           }
          ],
          "scattermapbox": [
           {
            "marker": {
             "colorbar": {
              "outlinewidth": 0,
              "ticks": ""
             }
            },
            "type": "scattermapbox"
           }
          ],
          "scatterpolar": [
           {
            "marker": {
             "colorbar": {
              "outlinewidth": 0,
              "ticks": ""
             }
            },
            "type": "scatterpolar"
           }
          ],
          "scatterpolargl": [
           {
            "marker": {
             "colorbar": {
              "outlinewidth": 0,
              "ticks": ""
             }
            },
            "type": "scatterpolargl"
           }
          ],
          "scatterternary": [
           {
            "marker": {
             "colorbar": {
              "outlinewidth": 0,
              "ticks": ""
             }
            },
            "type": "scatterternary"
           }
          ],
          "surface": [
           {
            "colorbar": {
             "outlinewidth": 0,
             "ticks": ""
            },
            "colorscale": [
             [
              0,
              "#0d0887"
             ],
             [
              0.1111111111111111,
              "#46039f"
             ],
             [
              0.2222222222222222,
              "#7201a8"
             ],
             [
              0.3333333333333333,
              "#9c179e"
             ],
             [
              0.4444444444444444,
              "#bd3786"
             ],
             [
              0.5555555555555556,
              "#d8576b"
             ],
             [
              0.6666666666666666,
              "#ed7953"
             ],
             [
              0.7777777777777778,
              "#fb9f3a"
             ],
             [
              0.8888888888888888,
              "#fdca26"
             ],
             [
              1,
              "#f0f921"
             ]
            ],
            "type": "surface"
           }
          ],
          "table": [
           {
            "cells": {
             "fill": {
              "color": "#EBF0F8"
             },
             "line": {
              "color": "white"
             }
            },
            "header": {
             "fill": {
              "color": "#C8D4E3"
             },
             "line": {
              "color": "white"
             }
            },
            "type": "table"
           }
          ]
         },
         "layout": {
          "annotationdefaults": {
           "arrowcolor": "#2a3f5f",
           "arrowhead": 0,
           "arrowwidth": 1
          },
          "autotypenumbers": "strict",
          "coloraxis": {
           "colorbar": {
            "outlinewidth": 0,
            "ticks": ""
           }
          },
          "colorscale": {
           "diverging": [
            [
             0,
             "#8e0152"
            ],
            [
             0.1,
             "#c51b7d"
            ],
            [
             0.2,
             "#de77ae"
            ],
            [
             0.3,
             "#f1b6da"
            ],
            [
             0.4,
             "#fde0ef"
            ],
            [
             0.5,
             "#f7f7f7"
            ],
            [
             0.6,
             "#e6f5d0"
            ],
            [
             0.7,
             "#b8e186"
            ],
            [
             0.8,
             "#7fbc41"
            ],
            [
             0.9,
             "#4d9221"
            ],
            [
             1,
             "#276419"
            ]
           ],
           "sequential": [
            [
             0,
             "#0d0887"
            ],
            [
             0.1111111111111111,
             "#46039f"
            ],
            [
             0.2222222222222222,
             "#7201a8"
            ],
            [
             0.3333333333333333,
             "#9c179e"
            ],
            [
             0.4444444444444444,
             "#bd3786"
            ],
            [
             0.5555555555555556,
             "#d8576b"
            ],
            [
             0.6666666666666666,
             "#ed7953"
            ],
            [
             0.7777777777777778,
             "#fb9f3a"
            ],
            [
             0.8888888888888888,
             "#fdca26"
            ],
            [
             1,
             "#f0f921"
            ]
           ],
           "sequentialminus": [
            [
             0,
             "#0d0887"
            ],
            [
             0.1111111111111111,
             "#46039f"
            ],
            [
             0.2222222222222222,
             "#7201a8"
            ],
            [
             0.3333333333333333,
             "#9c179e"
            ],
            [
             0.4444444444444444,
             "#bd3786"
            ],
            [
             0.5555555555555556,
             "#d8576b"
            ],
            [
             0.6666666666666666,
             "#ed7953"
            ],
            [
             0.7777777777777778,
             "#fb9f3a"
            ],
            [
             0.8888888888888888,
             "#fdca26"
            ],
            [
             1,
             "#f0f921"
            ]
           ]
          },
          "colorway": [
           "#636efa",
           "#EF553B",
           "#00cc96",
           "#ab63fa",
           "#FFA15A",
           "#19d3f3",
           "#FF6692",
           "#B6E880",
           "#FF97FF",
           "#FECB52"
          ],
          "font": {
           "color": "#2a3f5f"
          },
          "geo": {
           "bgcolor": "white",
           "lakecolor": "white",
           "landcolor": "#E5ECF6",
           "showlakes": true,
           "showland": true,
           "subunitcolor": "white"
          },
          "hoverlabel": {
           "align": "left"
          },
          "hovermode": "closest",
          "mapbox": {
           "style": "light"
          },
          "paper_bgcolor": "white",
          "plot_bgcolor": "#E5ECF6",
          "polar": {
           "angularaxis": {
            "gridcolor": "white",
            "linecolor": "white",
            "ticks": ""
           },
           "bgcolor": "#E5ECF6",
           "radialaxis": {
            "gridcolor": "white",
            "linecolor": "white",
            "ticks": ""
           }
          },
          "scene": {
           "xaxis": {
            "backgroundcolor": "#E5ECF6",
            "gridcolor": "white",
            "gridwidth": 2,
            "linecolor": "white",
            "showbackground": true,
            "ticks": "",
            "zerolinecolor": "white"
           },
           "yaxis": {
            "backgroundcolor": "#E5ECF6",
            "gridcolor": "white",
            "gridwidth": 2,
            "linecolor": "white",
            "showbackground": true,
            "ticks": "",
            "zerolinecolor": "white"
           },
           "zaxis": {
            "backgroundcolor": "#E5ECF6",
            "gridcolor": "white",
            "gridwidth": 2,
            "linecolor": "white",
            "showbackground": true,
            "ticks": "",
            "zerolinecolor": "white"
           }
          },
          "shapedefaults": {
           "line": {
            "color": "#2a3f5f"
           }
          },
          "ternary": {
           "aaxis": {
            "gridcolor": "white",
            "linecolor": "white",
            "ticks": ""
           },
           "baxis": {
            "gridcolor": "white",
            "linecolor": "white",
            "ticks": ""
           },
           "bgcolor": "#E5ECF6",
           "caxis": {
            "gridcolor": "white",
            "linecolor": "white",
            "ticks": ""
           }
          },
          "title": {
           "x": 0.05
          },
          "xaxis": {
           "automargin": true,
           "gridcolor": "white",
           "linecolor": "white",
           "ticks": "",
           "title": {
            "standoff": 15
           },
           "zerolinecolor": "white",
           "zerolinewidth": 2
          },
          "yaxis": {
           "automargin": true,
           "gridcolor": "white",
           "linecolor": "white",
           "ticks": "",
           "title": {
            "standoff": 15
           },
           "zerolinecolor": "white",
           "zerolinewidth": 2
          }
         }
        },
        "title": {
         "text": "十种加密货币在2022年3、4月的日度涨跌幅箱线图"
        },
        "xaxis": {
         "anchor": "y",
         "domain": [
          0,
          1
         ]
        },
        "yaxis": {
         "anchor": "x",
         "domain": [
          0,
          1
         ],
         "title": {
          "text": "limit move"
         }
        }
       }
      }
     },
     "metadata": {},
     "output_type": "display_data"
    }
   ],
   "source": [
    "px.box(newData,\n",
    "       y=\"limit move\",\n",
    "       color=\"coinType\",\n",
    "       title=\"十种加密货币在2022年3、4月的日度涨跌幅箱线图\")"
   ]
  },
  {
   "cell_type": "code",
   "execution_count": 18,
   "id": "897053b0",
   "metadata": {},
   "outputs": [
    {
     "data": {
      "application/vnd.plotly.v1+json": {
       "config": {
        "plotlyServerURL": "https://plot.ly"
       },
       "data": [
        {
         "hovertemplate": "coinType=BNB<br>Time=%{x}<br>limit move=%{y}<extra></extra>",
         "legendgroup": "BNB",
         "marker": {
          "color": "#636efa",
          "symbol": "circle"
         },
         "mode": "markers",
         "name": "BNB",
         "orientation": "v",
         "showlegend": true,
         "type": "scatter",
         "x": [
          1,
          2,
          3,
          4,
          5,
          6,
          7,
          8,
          9,
          10,
          11,
          12,
          13,
          14,
          15,
          16,
          17,
          18,
          19,
          20,
          21,
          22,
          23,
          24,
          25,
          26,
          27,
          28,
          29,
          30,
          31,
          32,
          33,
          34,
          35,
          36,
          37,
          38,
          39,
          40,
          41,
          42,
          43,
          44,
          45,
          46,
          47,
          48,
          49,
          50,
          51,
          52,
          53,
          54,
          55,
          56,
          57,
          58,
          59,
          60,
          61
         ],
         "xaxis": "x10",
         "y": [
          0.0328,
          0.0015,
          -0.0161,
          -0.0698,
          0.0272,
          -0.0255,
          0.0165,
          0.0018,
          0.0296,
          -0.0534,
          -0.0005,
          0.0013,
          -0.029,
          0.0324,
          -0.0051,
          0.0377,
          0.0169,
          0.0135,
          0.007,
          -0.0229,
          0.0135,
          0.0205,
          0.0102,
          0.0146,
          -0.0098,
          0.0143,
          0.0352,
          -0.0021,
          0.0104,
          0.0178,
          -0.0298,
          0.0437,
          -0.0241,
          0.0309,
          -0.0054,
          -0.0073,
          -0.0549,
          0.0384,
          -0.0337,
          0.0124,
          -0.0211,
          -0.0565,
          0.0494,
          0.0228,
          -0.0198,
          0.0061,
          -0.0003,
          -0.0247,
          0.0246,
          0.0129,
          -0.0093,
          -0.0318,
          0.004,
          -0.0135,
          -0.0055,
          0.0135,
          -0.0455,
          0.014,
          0.0406,
          -0.0349,
          -0.0407
         ],
         "yaxis": "y10"
        },
        {
         "hovertemplate": "coinType=Dogecoin<br>Time=%{x}<br>limit move=%{y}<extra></extra>",
         "legendgroup": "Dogecoin",
         "marker": {
          "color": "#EF553B",
          "symbol": "circle"
         },
         "mode": "markers",
         "name": "Dogecoin",
         "orientation": "v",
         "showlegend": true,
         "type": "scatter",
         "x": [
          1,
          2,
          3,
          4,
          5,
          6,
          7,
          8,
          9,
          10,
          11,
          12,
          13,
          14,
          15,
          16,
          17,
          18,
          19,
          20,
          21,
          22,
          23,
          24,
          25,
          26,
          27,
          28,
          29,
          30,
          31,
          32,
          33,
          34,
          35,
          36,
          37,
          38,
          39,
          40,
          41,
          42,
          43,
          44,
          45,
          46,
          47,
          48,
          49,
          50,
          51,
          52,
          53,
          54,
          55,
          56,
          57,
          58,
          59,
          60,
          61
         ],
         "xaxis": "x11",
         "y": [
          0.0036,
          -0.0069,
          -0.0251,
          -0.0555,
          0.0051,
          0.0054,
          -0.0551,
          0.0011,
          0.0376,
          -0.0379,
          -0.0126,
          -0.0061,
          -0.0271,
          0.0208,
          -0.0117,
          0.0391,
          -0.0057,
          0.0247,
          0.0363,
          -0.0363,
          0.0014,
          0.0268,
          0.0605,
          0.0536,
          -0.0434,
          0.0403,
          0.0642,
          -0.0182,
          0.0162,
          -0.01,
          -0.0347,
          0.0236,
          -0.0188,
          0.0548,
          0.0151,
          0.1616,
          -0.1705,
          0.0205,
          -0.0238,
          0.0113,
          0.0271,
          -0.0943,
          0.029,
          0.0135,
          0.0289,
          0.0141,
          -0.0165,
          -0.0304,
          0.0074,
          0.0172,
          -0.014,
          -0.0314,
          0.0013,
          -0.0189,
          -0.0153,
          0.1981,
          -0.1277,
          0.0166,
          -0.0176,
          -0.0189,
          -0.0552
         ],
         "yaxis": "y11"
        },
        {
         "hovertemplate": "coinType=Cardano<br>Time=%{x}<br>limit move=%{y}<extra></extra>",
         "legendgroup": "Cardano",
         "marker": {
          "color": "#00cc96",
          "symbol": "circle"
         },
         "mode": "markers",
         "name": "Cardano",
         "orientation": "v",
         "showlegend": true,
         "type": "scatter",
         "x": [
          1,
          2,
          3,
          4,
          5,
          6,
          7,
          8,
          9,
          10,
          11,
          12,
          13,
          14,
          15,
          16,
          17,
          18,
          19,
          20,
          21,
          22,
          23,
          24,
          25,
          26,
          27,
          28,
          29,
          30,
          31,
          32,
          33,
          34,
          35,
          36,
          37,
          38,
          39,
          40,
          41,
          42,
          43,
          44,
          45,
          46,
          47,
          48,
          49,
          50,
          51,
          52,
          53,
          54,
          55,
          56,
          57,
          58,
          59,
          60,
          61
         ],
         "xaxis": "x12",
         "y": [
          -0.0002,
          -0.0264,
          -0.0383,
          -0.0636,
          0.0229,
          -0.0486,
          -0.0343,
          0.0101,
          0.0578,
          -0.0491,
          -0.022,
          0.0011,
          -0.0025,
          0.0194,
          -0.0051,
          0.0497,
          -0.0034,
          0.0193,
          0.0601,
          -0.0271,
          0.0448,
          0.0619,
          0.135,
          0.0222,
          -0.0303,
          0.0512,
          0.0271,
          -0.0145,
          0.0197,
          -0.0006,
          -0.0402,
          0.0211,
          -0.009,
          0.0265,
          0.0228,
          -0.0345,
          -0.1014,
          0.0362,
          -0.0599,
          0.0198,
          -0.0183,
          -0.1035,
          0.0369,
          0.0209,
          -0.0421,
          0.0242,
          -0.0052,
          -0.038,
          0.0249,
          0.017,
          -0.0168,
          -0.0288,
          -0.0043,
          -0.0218,
          -0.0003,
          0.013,
          -0.0795,
          0.017,
          0.0037,
          -0.0458,
          -0.0598
         ],
         "yaxis": "y12"
        },
        {
         "hovertemplate": "coinType=IOTA<br>Time=%{x}<br>limit move=%{y}<extra></extra>",
         "legendgroup": "IOTA",
         "marker": {
          "color": "#ab63fa",
          "symbol": "circle"
         },
         "mode": "markers",
         "name": "IOTA",
         "orientation": "v",
         "showlegend": true,
         "type": "scatter",
         "x": [
          1,
          2,
          3,
          4,
          5,
          6,
          7,
          8,
          9,
          10,
          11,
          12,
          13,
          14,
          15,
          16,
          17,
          18,
          19,
          20,
          21,
          22,
          23,
          24,
          25,
          26,
          27,
          28,
          29,
          30,
          31,
          32,
          33,
          34,
          35,
          36,
          37,
          38,
          39,
          40,
          41,
          42,
          43,
          44,
          45,
          46,
          47,
          48,
          49,
          50,
          51,
          52,
          53,
          54,
          55,
          56,
          57,
          58,
          59,
          60,
          61
         ],
         "xaxis": "x7",
         "y": [
          0.0028,
          -0.0153,
          -0.0357,
          -0.0653,
          0.0368,
          -0.0593,
          0.0034,
          0.0153,
          0.0486,
          -0.0091,
          -0.0298,
          -0.0159,
          -0.0275,
          0.0463,
          -0.0124,
          0.0288,
          -0.0109,
          0.0168,
          0.0305,
          0.003,
          -0.0105,
          0.0399,
          0.0093,
          0.0297,
          -0.0278,
          0.0621,
          0.0532,
          -0.0326,
          0.0215,
          0.0302,
          -0.0425,
          0.0433,
          0.0008,
          0.0107,
          -0.0408,
          -0.0481,
          -0.1061,
          0.0403,
          -0.0569,
          0.0318,
          -0.0428,
          -0.0902,
          0.025,
          0.0238,
          -0.0262,
          0.0172,
          0.0008,
          -0.0434,
          0.0309,
          0.028,
          -0.0099,
          -0.0217,
          0.0156,
          0.0115,
          -0.0281,
          -0.0159,
          -0.0768,
          0.0284,
          -0.0014,
          -0.0695,
          -0.0747
         ],
         "yaxis": "y7"
        },
        {
         "hovertemplate": "coinType=Monero<br>Time=%{x}<br>limit move=%{y}<extra></extra>",
         "legendgroup": "Monero",
         "marker": {
          "color": "#FFA15A",
          "symbol": "circle"
         },
         "mode": "markers",
         "name": "Monero",
         "orientation": "v",
         "showlegend": true,
         "type": "scatter",
         "x": [
          1,
          2,
          3,
          4,
          5,
          6,
          7,
          8,
          9,
          10,
          11,
          12,
          13,
          14,
          15,
          16,
          17,
          18,
          19,
          20,
          21,
          22,
          23,
          24,
          25,
          26,
          27,
          28,
          29,
          30,
          31,
          32,
          33,
          34,
          35,
          36,
          37,
          38,
          39,
          40,
          41,
          42,
          43,
          44,
          45,
          46,
          47,
          48,
          49,
          50,
          51,
          52,
          53,
          54,
          55,
          56,
          57,
          58,
          59,
          60,
          61
         ],
         "xaxis": "x8",
         "y": [
          0.0445,
          0.0001,
          -0.0325,
          -0.0722,
          0.0394,
          -0.0428,
          -0.0057,
          0.2861,
          -0.0728,
          -0.052,
          -0.0448,
          0.0862,
          -0.0497,
          0.0557,
          -0.0145,
          0.0333,
          -0.009,
          0.04,
          0.0119,
          -0.0143,
          -0.0159,
          0.0122,
          0.0181,
          0.0327,
          -0.0203,
          0.0367,
          0.0428,
          -0.0057,
          0.035,
          -0.0037,
          -0.0387,
          0.0257,
          -0.0254,
          0.022,
          0.0224,
          0,
          -0.0392,
          0.0588,
          -0.0391,
          0.1042,
          -0.0172,
          -0.0405,
          0.0255,
          0.0219,
          -0.0314,
          0.0427,
          -0.0128,
          0.0209,
          0.1031,
          -0.0461,
          0.0509,
          0.0434,
          -0.0359,
          -0.0067,
          -0.0521,
          0.0071,
          -0.0953,
          -0.0032,
          -0.0089,
          -0.0295,
          -0.0278
         ],
         "yaxis": "y8"
        },
        {
         "hovertemplate": "coinType=Solana<br>Time=%{x}<br>limit move=%{y}<extra></extra>",
         "legendgroup": "Solana",
         "marker": {
          "color": "#19d3f3",
          "symbol": "circle"
         },
         "mode": "markers",
         "name": "Solana",
         "orientation": "v",
         "showlegend": true,
         "type": "scatter",
         "x": [
          1,
          2,
          3,
          4,
          5,
          6,
          7,
          8,
          9,
          10,
          11,
          12,
          13,
          14,
          15,
          16,
          17,
          18,
          19,
          20,
          21,
          22,
          23,
          24,
          25,
          26,
          27,
          28,
          29,
          30,
          31,
          32,
          33,
          34,
          35,
          36,
          37,
          38,
          39,
          40,
          41,
          42,
          43,
          44,
          45,
          46,
          47,
          48,
          49,
          50,
          51,
          52,
          53,
          54,
          55,
          56,
          57,
          58,
          59,
          60,
          61
         ],
         "xaxis": "x9",
         "y": [
          -0.0108,
          0.021,
          -0.0502,
          -0.0771,
          0.0153,
          -0.0567,
          -0.0326,
          0.0064,
          0.0702,
          -0.0592,
          -0.0266,
          0.0091,
          -0.0313,
          0.03,
          0.02,
          0.0597,
          0.0002,
          0.0225,
          0.0294,
          -0.0414,
          0.0002,
          0.0204,
          0.0498,
          0.0782,
          -0.0362,
          0.032,
          0.052,
          -0.0131,
          0.057,
          0.0807,
          0.0182,
          0.095,
          -0.0165,
          0.0334,
          -0.0341,
          -0.0405,
          -0.1088,
          0.0494,
          -0.0723,
          0.0255,
          -0.0157,
          -0.1037,
          0.0367,
          0.0165,
          -0.0394,
          0.0066,
          0.007,
          -0.0178,
          0.02,
          0.0613,
          -0.0279,
          -0.0359,
          -0.012,
          0.0005,
          -0.0135,
          0.0179,
          -0.0527,
          0.0276,
          -0.0009,
          -0.044,
          -0.0975
         ],
         "yaxis": "y9"
        },
        {
         "hovertemplate": "coinType=Stellar<br>Time=%{x}<br>limit move=%{y}<extra></extra>",
         "legendgroup": "Stellar",
         "marker": {
          "color": "#FF6692",
          "symbol": "circle"
         },
         "mode": "markers",
         "name": "Stellar",
         "orientation": "v",
         "showlegend": true,
         "type": "scatter",
         "x": [
          1,
          2,
          3,
          4,
          5,
          6,
          7,
          8,
          9,
          10,
          11,
          12,
          13,
          14,
          15,
          16,
          17,
          18,
          19,
          20,
          21,
          22,
          23,
          24,
          25,
          26,
          27,
          28,
          29,
          30,
          31,
          32,
          33,
          34,
          35,
          36,
          37,
          38,
          39,
          40,
          41,
          42,
          43,
          44,
          45,
          46,
          47,
          48,
          49,
          50,
          51,
          52,
          53,
          54,
          55,
          56,
          57,
          58,
          59,
          60,
          61
         ],
         "xaxis": "x4",
         "y": [
          0.0049,
          -0.0257,
          -0.0294,
          -0.0633,
          0.0244,
          -0.0421,
          -0.0116,
          0.0148,
          0.0895,
          -0.0534,
          0.0275,
          0.0075,
          -0.0458,
          0.0206,
          0.0137,
          0.0368,
          0.0015,
          0.0172,
          0.0395,
          -0.0164,
          0.0334,
          0.015,
          0.0125,
          0.0263,
          -0.0169,
          0.0208,
          0.065,
          -0.0015,
          0.0167,
          0.0065,
          -0.0272,
          0.0191,
          0.0012,
          0.0174,
          -0.0205,
          -0.0313,
          -0.0963,
          0.047,
          -0.05,
          0.0136,
          -0.0224,
          -0.069,
          0.0316,
          0.0208,
          -0.0125,
          0.0531,
          0.0056,
          -0.0427,
          0.0428,
          -0.0057,
          -0.0182,
          -0.0184,
          -0.0058,
          -0.0203,
          -0.0087,
          0.0134,
          -0.061,
          0.0209,
          0.0086,
          -0.0431,
          -0.0505
         ],
         "yaxis": "y4"
        },
        {
         "hovertemplate": "coinType=Tether<br>Time=%{x}<br>limit move=%{y}<extra></extra>",
         "legendgroup": "Tether",
         "marker": {
          "color": "#B6E880",
          "symbol": "circle"
         },
         "mode": "markers",
         "name": "Tether",
         "orientation": "v",
         "showlegend": true,
         "type": "scatter",
         "x": [
          1,
          2,
          3,
          4,
          5,
          6,
          7,
          8,
          9,
          10,
          11,
          12,
          13,
          14,
          15,
          16,
          17,
          18,
          19,
          20,
          21,
          22,
          23,
          24,
          25,
          26,
          27,
          28,
          29,
          30,
          31,
          32,
          33,
          34,
          35,
          36,
          37,
          38,
          39,
          40,
          41,
          42,
          43,
          44,
          45,
          46,
          47,
          48,
          49,
          50,
          51,
          52,
          53,
          54,
          55,
          56,
          57,
          58,
          59,
          60,
          61
         ],
         "xaxis": "x5",
         "y": [
          0.0001,
          0,
          -0.0003,
          0.0002,
          0,
          0,
          -0.0001,
          -0.0001,
          0.0002,
          0.0002,
          -0.0003,
          0,
          0,
          0.0002,
          0,
          -0.0001,
          0,
          -0.0001,
          0,
          0,
          -0.0002,
          0,
          0.0001,
          0.0001,
          0,
          0,
          -0.0003,
          0.0002,
          0,
          -0.0001,
          0,
          0.0001,
          -0.0001,
          -0.0001,
          0,
          0,
          0.0001,
          -0.0001,
          0.0001,
          0,
          0.0002,
          -0.0002,
          0,
          0,
          -0.0002,
          0.0002,
          0,
          0.0001,
          -0.0002,
          0,
          0.0001,
          -0.0001,
          -0.0001,
          0.0002,
          0,
          -0.0002,
          -0.0001,
          0.0001,
          0,
          0,
          0.0003
         ],
         "yaxis": "y5"
        },
        {
         "hovertemplate": "coinType=Quant<br>Time=%{x}<br>limit move=%{y}<extra></extra>",
         "legendgroup": "Quant",
         "marker": {
          "color": "#FF97FF",
          "symbol": "circle"
         },
         "mode": "markers",
         "name": "Quant",
         "orientation": "v",
         "showlegend": true,
         "type": "scatter",
         "x": [
          1,
          2,
          3,
          4,
          5,
          6,
          7,
          8,
          9,
          10,
          11,
          12,
          13,
          14,
          15,
          16,
          17,
          18,
          19,
          20,
          21,
          22,
          23,
          24,
          25,
          26,
          27,
          28,
          29,
          30,
          31,
          32,
          33,
          34,
          35,
          36,
          37,
          38,
          39,
          40,
          41,
          42,
          43,
          44,
          45,
          46,
          47,
          48,
          49,
          50,
          51,
          52,
          53,
          54,
          55,
          56,
          57,
          58,
          59,
          60,
          61
         ],
         "xaxis": "x6",
         "y": [
          0.03,
          -0.0097,
          0.0769,
          -0.0682,
          0.0209,
          -0.0891,
          0.0045,
          0.0036,
          0.0711,
          -0.0202,
          -0.03,
          0.0248,
          -0.0337,
          0.0116,
          -0.0256,
          0.0598,
          -0.0257,
          0.0202,
          0.0325,
          -0.0127,
          0.0078,
          0.0611,
          -0.0011,
          0.075,
          0.009,
          0.0274,
          0.0538,
          -0.0468,
          0.0224,
          -0.0124,
          -0.0376,
          0.027,
          -0.0082,
          -0.0035,
          -0.0042,
          -0.0409,
          -0.0712,
          0.028,
          -0.046,
          0.0025,
          -0.0103,
          -0.0485,
          0.0118,
          -0.005,
          -0.0279,
          0.0018,
          0.0037,
          -0.0182,
          0.0048,
          0.0266,
          -0.0335,
          -0.0256,
          0.0017,
          -0.0207,
          0.0455,
          -0.0248,
          -0.0668,
          0.0059,
          -0.0099,
          -0.0563,
          -0.0176
         ],
         "yaxis": "y6"
        },
        {
         "hovertemplate": "coinType=Bitcoin<br>Time=%{x}<br>limit move=%{y}<extra></extra>",
         "legendgroup": "Bitcoin",
         "marker": {
          "color": "#FECB52",
          "symbol": "circle"
         },
         "mode": "markers",
         "name": "Bitcoin",
         "orientation": "v",
         "showlegend": true,
         "type": "scatter",
         "x": [
          1,
          2,
          3,
          4,
          5,
          6,
          7,
          8,
          9,
          10,
          11,
          12,
          13,
          14,
          15,
          16,
          17,
          18,
          19,
          20,
          21,
          22,
          23,
          24,
          25,
          26,
          27,
          28,
          29,
          30,
          31,
          32,
          33,
          34,
          35,
          36,
          37,
          38,
          39,
          40,
          41,
          42,
          43,
          44,
          45,
          46,
          47,
          48,
          49,
          50,
          51,
          52,
          53,
          54,
          55,
          56,
          57,
          58,
          59,
          60,
          61
         ],
         "xaxis": "x",
         "y": [
          0.0285,
          -0.0114,
          -0.033,
          -0.0782,
          0.0065,
          -0.0252,
          -0.0099,
          0.0189,
          0.0822,
          -0.0599,
          -0.0174,
          0.0022,
          -0.0263,
          0.0497,
          -0.0097,
          0.0467,
          -0.005,
          0.0208,
          0.0111,
          -0.0227,
          -0.0062,
          0.0329,
          0.0127,
          0.0257,
          0.0072,
          0.0049,
          0.0519,
          0.0052,
          0.0073,
          -0.0079,
          -0.0329,
          0.017,
          -0.0105,
          0.013,
          0.0048,
          -0.0241,
          -0.0513,
          0.0064,
          -0.027,
          0.0116,
          -0.0147,
          -0.0627,
          0.0147,
          0.0263,
          -0.0291,
          0.0156,
          -0.0044,
          -0.0168,
          0.0277,
          0.0172,
          -0.0033,
          -0.0214,
          -0.0191,
          -0.0073,
          0.0012,
          0.0244,
          -0.0572,
          0.0296,
          0.0129,
          -0.0294,
          -0.0241
         ],
         "yaxis": "y"
        }
       ],
       "layout": {
        "annotations": [
         {
          "font": {},
          "showarrow": false,
          "text": "coinType=Bitcoin",
          "x": 0.15999999999999998,
          "xanchor": "center",
          "xref": "paper",
          "y": 0.1975,
          "yanchor": "bottom",
          "yref": "paper"
         },
         {
          "font": {},
          "showarrow": false,
          "text": "coinType=Stellar",
          "x": 0.15999999999999998,
          "xanchor": "center",
          "xref": "paper",
          "y": 0.465,
          "yanchor": "bottom",
          "yref": "paper"
         },
         {
          "font": {},
          "showarrow": false,
          "text": "coinType=Tether",
          "x": 0.49999999999999994,
          "xanchor": "center",
          "xref": "paper",
          "y": 0.465,
          "yanchor": "bottom",
          "yref": "paper"
         },
         {
          "font": {},
          "showarrow": false,
          "text": "coinType=Quant",
          "x": 0.8399999999999999,
          "xanchor": "center",
          "xref": "paper",
          "y": 0.465,
          "yanchor": "bottom",
          "yref": "paper"
         },
         {
          "font": {},
          "showarrow": false,
          "text": "coinType=IOTA",
          "x": 0.15999999999999998,
          "xanchor": "center",
          "xref": "paper",
          "y": 0.7325,
          "yanchor": "bottom",
          "yref": "paper"
         },
         {
          "font": {},
          "showarrow": false,
          "text": "coinType=Monero",
          "x": 0.49999999999999994,
          "xanchor": "center",
          "xref": "paper",
          "y": 0.7325,
          "yanchor": "bottom",
          "yref": "paper"
         },
         {
          "font": {},
          "showarrow": false,
          "text": "coinType=Solana",
          "x": 0.8399999999999999,
          "xanchor": "center",
          "xref": "paper",
          "y": 0.7325,
          "yanchor": "bottom",
          "yref": "paper"
         },
         {
          "font": {},
          "showarrow": false,
          "text": "coinType=BNB",
          "x": 0.15999999999999998,
          "xanchor": "center",
          "xref": "paper",
          "y": 1,
          "yanchor": "bottom",
          "yref": "paper"
         },
         {
          "font": {},
          "showarrow": false,
          "text": "coinType=Dogecoin",
          "x": 0.49999999999999994,
          "xanchor": "center",
          "xref": "paper",
          "y": 1,
          "yanchor": "bottom",
          "yref": "paper"
         },
         {
          "font": {},
          "showarrow": false,
          "text": "coinType=Cardano",
          "x": 0.8399999999999999,
          "xanchor": "center",
          "xref": "paper",
          "y": 1,
          "yanchor": "bottom",
          "yref": "paper"
         }
        ],
        "legend": {
         "title": {
          "text": "coinType"
         },
         "tracegroupgap": 0
        },
        "template": {
         "data": {
          "bar": [
           {
            "error_x": {
             "color": "#2a3f5f"
            },
            "error_y": {
             "color": "#2a3f5f"
            },
            "marker": {
             "line": {
              "color": "#E5ECF6",
              "width": 0.5
             },
             "pattern": {
              "fillmode": "overlay",
              "size": 10,
              "solidity": 0.2
             }
            },
            "type": "bar"
           }
          ],
          "barpolar": [
           {
            "marker": {
             "line": {
              "color": "#E5ECF6",
              "width": 0.5
             },
             "pattern": {
              "fillmode": "overlay",
              "size": 10,
              "solidity": 0.2
             }
            },
            "type": "barpolar"
           }
          ],
          "carpet": [
           {
            "aaxis": {
             "endlinecolor": "#2a3f5f",
             "gridcolor": "white",
             "linecolor": "white",
             "minorgridcolor": "white",
             "startlinecolor": "#2a3f5f"
            },
            "baxis": {
             "endlinecolor": "#2a3f5f",
             "gridcolor": "white",
             "linecolor": "white",
             "minorgridcolor": "white",
             "startlinecolor": "#2a3f5f"
            },
            "type": "carpet"
           }
          ],
          "choropleth": [
           {
            "colorbar": {
             "outlinewidth": 0,
             "ticks": ""
            },
            "type": "choropleth"
           }
          ],
          "contour": [
           {
            "colorbar": {
             "outlinewidth": 0,
             "ticks": ""
            },
            "colorscale": [
             [
              0,
              "#0d0887"
             ],
             [
              0.1111111111111111,
              "#46039f"
             ],
             [
              0.2222222222222222,
              "#7201a8"
             ],
             [
              0.3333333333333333,
              "#9c179e"
             ],
             [
              0.4444444444444444,
              "#bd3786"
             ],
             [
              0.5555555555555556,
              "#d8576b"
             ],
             [
              0.6666666666666666,
              "#ed7953"
             ],
             [
              0.7777777777777778,
              "#fb9f3a"
             ],
             [
              0.8888888888888888,
              "#fdca26"
             ],
             [
              1,
              "#f0f921"
             ]
            ],
            "type": "contour"
           }
          ],
          "contourcarpet": [
           {
            "colorbar": {
             "outlinewidth": 0,
             "ticks": ""
            },
            "type": "contourcarpet"
           }
          ],
          "heatmap": [
           {
            "colorbar": {
             "outlinewidth": 0,
             "ticks": ""
            },
            "colorscale": [
             [
              0,
              "#0d0887"
             ],
             [
              0.1111111111111111,
              "#46039f"
             ],
             [
              0.2222222222222222,
              "#7201a8"
             ],
             [
              0.3333333333333333,
              "#9c179e"
             ],
             [
              0.4444444444444444,
              "#bd3786"
             ],
             [
              0.5555555555555556,
              "#d8576b"
             ],
             [
              0.6666666666666666,
              "#ed7953"
             ],
             [
              0.7777777777777778,
              "#fb9f3a"
             ],
             [
              0.8888888888888888,
              "#fdca26"
             ],
             [
              1,
              "#f0f921"
             ]
            ],
            "type": "heatmap"
           }
          ],
          "heatmapgl": [
           {
            "colorbar": {
             "outlinewidth": 0,
             "ticks": ""
            },
            "colorscale": [
             [
              0,
              "#0d0887"
             ],
             [
              0.1111111111111111,
              "#46039f"
             ],
             [
              0.2222222222222222,
              "#7201a8"
             ],
             [
              0.3333333333333333,
              "#9c179e"
             ],
             [
              0.4444444444444444,
              "#bd3786"
             ],
             [
              0.5555555555555556,
              "#d8576b"
             ],
             [
              0.6666666666666666,
              "#ed7953"
             ],
             [
              0.7777777777777778,
              "#fb9f3a"
             ],
             [
              0.8888888888888888,
              "#fdca26"
             ],
             [
              1,
              "#f0f921"
             ]
            ],
            "type": "heatmapgl"
           }
          ],
          "histogram": [
           {
            "marker": {
             "pattern": {
              "fillmode": "overlay",
              "size": 10,
              "solidity": 0.2
             }
            },
            "type": "histogram"
           }
          ],
          "histogram2d": [
           {
            "colorbar": {
             "outlinewidth": 0,
             "ticks": ""
            },
            "colorscale": [
             [
              0,
              "#0d0887"
             ],
             [
              0.1111111111111111,
              "#46039f"
             ],
             [
              0.2222222222222222,
              "#7201a8"
             ],
             [
              0.3333333333333333,
              "#9c179e"
             ],
             [
              0.4444444444444444,
              "#bd3786"
             ],
             [
              0.5555555555555556,
              "#d8576b"
             ],
             [
              0.6666666666666666,
              "#ed7953"
             ],
             [
              0.7777777777777778,
              "#fb9f3a"
             ],
             [
              0.8888888888888888,
              "#fdca26"
             ],
             [
              1,
              "#f0f921"
             ]
            ],
            "type": "histogram2d"
           }
          ],
          "histogram2dcontour": [
           {
            "colorbar": {
             "outlinewidth": 0,
             "ticks": ""
            },
            "colorscale": [
             [
              0,
              "#0d0887"
             ],
             [
              0.1111111111111111,
              "#46039f"
             ],
             [
              0.2222222222222222,
              "#7201a8"
             ],
             [
              0.3333333333333333,
              "#9c179e"
             ],
             [
              0.4444444444444444,
              "#bd3786"
             ],
             [
              0.5555555555555556,
              "#d8576b"
             ],
             [
              0.6666666666666666,
              "#ed7953"
             ],
             [
              0.7777777777777778,
              "#fb9f3a"
             ],
             [
              0.8888888888888888,
              "#fdca26"
             ],
             [
              1,
              "#f0f921"
             ]
            ],
            "type": "histogram2dcontour"
           }
          ],
          "mesh3d": [
           {
            "colorbar": {
             "outlinewidth": 0,
             "ticks": ""
            },
            "type": "mesh3d"
           }
          ],
          "parcoords": [
           {
            "line": {
             "colorbar": {
              "outlinewidth": 0,
              "ticks": ""
             }
            },
            "type": "parcoords"
           }
          ],
          "pie": [
           {
            "automargin": true,
            "type": "pie"
           }
          ],
          "scatter": [
           {
            "fillpattern": {
             "fillmode": "overlay",
             "size": 10,
             "solidity": 0.2
            },
            "type": "scatter"
           }
          ],
          "scatter3d": [
           {
            "line": {
             "colorbar": {
              "outlinewidth": 0,
              "ticks": ""
             }
            },
            "marker": {
             "colorbar": {
              "outlinewidth": 0,
              "ticks": ""
             }
            },
            "type": "scatter3d"
           }
          ],
          "scattercarpet": [
           {
            "marker": {
             "colorbar": {
              "outlinewidth": 0,
              "ticks": ""
             }
            },
            "type": "scattercarpet"
           }
          ],
          "scattergeo": [
           {
            "marker": {
             "colorbar": {
              "outlinewidth": 0,
              "ticks": ""
             }
            },
            "type": "scattergeo"
           }
          ],
          "scattergl": [
           {
            "marker": {
             "colorbar": {
              "outlinewidth": 0,
              "ticks": ""
             }
            },
            "type": "scattergl"
           }
          ],
          "scattermapbox": [
           {
            "marker": {
             "colorbar": {
              "outlinewidth": 0,
              "ticks": ""
             }
            },
            "type": "scattermapbox"
           }
          ],
          "scatterpolar": [
           {
            "marker": {
             "colorbar": {
              "outlinewidth": 0,
              "ticks": ""
             }
            },
            "type": "scatterpolar"
           }
          ],
          "scatterpolargl": [
           {
            "marker": {
             "colorbar": {
              "outlinewidth": 0,
              "ticks": ""
             }
            },
            "type": "scatterpolargl"
           }
          ],
          "scatterternary": [
           {
            "marker": {
             "colorbar": {
              "outlinewidth": 0,
              "ticks": ""
             }
            },
            "type": "scatterternary"
           }
          ],
          "surface": [
           {
            "colorbar": {
             "outlinewidth": 0,
             "ticks": ""
            },
            "colorscale": [
             [
              0,
              "#0d0887"
             ],
             [
              0.1111111111111111,
              "#46039f"
             ],
             [
              0.2222222222222222,
              "#7201a8"
             ],
             [
              0.3333333333333333,
              "#9c179e"
             ],
             [
              0.4444444444444444,
              "#bd3786"
             ],
             [
              0.5555555555555556,
              "#d8576b"
             ],
             [
              0.6666666666666666,
              "#ed7953"
             ],
             [
              0.7777777777777778,
              "#fb9f3a"
             ],
             [
              0.8888888888888888,
              "#fdca26"
             ],
             [
              1,
              "#f0f921"
             ]
            ],
            "type": "surface"
           }
          ],
          "table": [
           {
            "cells": {
             "fill": {
              "color": "#EBF0F8"
             },
             "line": {
              "color": "white"
             }
            },
            "header": {
             "fill": {
              "color": "#C8D4E3"
             },
             "line": {
              "color": "white"
             }
            },
            "type": "table"
           }
          ]
         },
         "layout": {
          "annotationdefaults": {
           "arrowcolor": "#2a3f5f",
           "arrowhead": 0,
           "arrowwidth": 1
          },
          "autotypenumbers": "strict",
          "coloraxis": {
           "colorbar": {
            "outlinewidth": 0,
            "ticks": ""
           }
          },
          "colorscale": {
           "diverging": [
            [
             0,
             "#8e0152"
            ],
            [
             0.1,
             "#c51b7d"
            ],
            [
             0.2,
             "#de77ae"
            ],
            [
             0.3,
             "#f1b6da"
            ],
            [
             0.4,
             "#fde0ef"
            ],
            [
             0.5,
             "#f7f7f7"
            ],
            [
             0.6,
             "#e6f5d0"
            ],
            [
             0.7,
             "#b8e186"
            ],
            [
             0.8,
             "#7fbc41"
            ],
            [
             0.9,
             "#4d9221"
            ],
            [
             1,
             "#276419"
            ]
           ],
           "sequential": [
            [
             0,
             "#0d0887"
            ],
            [
             0.1111111111111111,
             "#46039f"
            ],
            [
             0.2222222222222222,
             "#7201a8"
            ],
            [
             0.3333333333333333,
             "#9c179e"
            ],
            [
             0.4444444444444444,
             "#bd3786"
            ],
            [
             0.5555555555555556,
             "#d8576b"
            ],
            [
             0.6666666666666666,
             "#ed7953"
            ],
            [
             0.7777777777777778,
             "#fb9f3a"
            ],
            [
             0.8888888888888888,
             "#fdca26"
            ],
            [
             1,
             "#f0f921"
            ]
           ],
           "sequentialminus": [
            [
             0,
             "#0d0887"
            ],
            [
             0.1111111111111111,
             "#46039f"
            ],
            [
             0.2222222222222222,
             "#7201a8"
            ],
            [
             0.3333333333333333,
             "#9c179e"
            ],
            [
             0.4444444444444444,
             "#bd3786"
            ],
            [
             0.5555555555555556,
             "#d8576b"
            ],
            [
             0.6666666666666666,
             "#ed7953"
            ],
            [
             0.7777777777777778,
             "#fb9f3a"
            ],
            [
             0.8888888888888888,
             "#fdca26"
            ],
            [
             1,
             "#f0f921"
            ]
           ]
          },
          "colorway": [
           "#636efa",
           "#EF553B",
           "#00cc96",
           "#ab63fa",
           "#FFA15A",
           "#19d3f3",
           "#FF6692",
           "#B6E880",
           "#FF97FF",
           "#FECB52"
          ],
          "font": {
           "color": "#2a3f5f"
          },
          "geo": {
           "bgcolor": "white",
           "lakecolor": "white",
           "landcolor": "#E5ECF6",
           "showlakes": true,
           "showland": true,
           "subunitcolor": "white"
          },
          "hoverlabel": {
           "align": "left"
          },
          "hovermode": "closest",
          "mapbox": {
           "style": "light"
          },
          "paper_bgcolor": "white",
          "plot_bgcolor": "#E5ECF6",
          "polar": {
           "angularaxis": {
            "gridcolor": "white",
            "linecolor": "white",
            "ticks": ""
           },
           "bgcolor": "#E5ECF6",
           "radialaxis": {
            "gridcolor": "white",
            "linecolor": "white",
            "ticks": ""
           }
          },
          "scene": {
           "xaxis": {
            "backgroundcolor": "#E5ECF6",
            "gridcolor": "white",
            "gridwidth": 2,
            "linecolor": "white",
            "showbackground": true,
            "ticks": "",
            "zerolinecolor": "white"
           },
           "yaxis": {
            "backgroundcolor": "#E5ECF6",
            "gridcolor": "white",
            "gridwidth": 2,
            "linecolor": "white",
            "showbackground": true,
            "ticks": "",
            "zerolinecolor": "white"
           },
           "zaxis": {
            "backgroundcolor": "#E5ECF6",
            "gridcolor": "white",
            "gridwidth": 2,
            "linecolor": "white",
            "showbackground": true,
            "ticks": "",
            "zerolinecolor": "white"
           }
          },
          "shapedefaults": {
           "line": {
            "color": "#2a3f5f"
           }
          },
          "ternary": {
           "aaxis": {
            "gridcolor": "white",
            "linecolor": "white",
            "ticks": ""
           },
           "baxis": {
            "gridcolor": "white",
            "linecolor": "white",
            "ticks": ""
           },
           "bgcolor": "#E5ECF6",
           "caxis": {
            "gridcolor": "white",
            "linecolor": "white",
            "ticks": ""
           }
          },
          "title": {
           "x": 0.05
          },
          "xaxis": {
           "automargin": true,
           "gridcolor": "white",
           "linecolor": "white",
           "ticks": "",
           "title": {
            "standoff": 15
           },
           "zerolinecolor": "white",
           "zerolinewidth": 2
          },
          "yaxis": {
           "automargin": true,
           "gridcolor": "white",
           "linecolor": "white",
           "ticks": "",
           "title": {
            "standoff": 15
           },
           "zerolinecolor": "white",
           "zerolinewidth": 2
          }
         }
        },
        "title": {
         "text": "十种加密货币日度2022年3、4月涨跌幅散点图"
        },
        "xaxis": {
         "anchor": "y",
         "domain": [
          0,
          0.31999999999999995
         ],
         "range": [
          1,
          61
         ],
         "title": {
          "text": "Time"
         }
        },
        "xaxis10": {
         "anchor": "y10",
         "domain": [
          0,
          0.31999999999999995
         ],
         "matches": "x",
         "showticklabels": false
        },
        "xaxis11": {
         "anchor": "y11",
         "domain": [
          0.33999999999999997,
          0.6599999999999999
         ],
         "matches": "x",
         "showticklabels": false
        },
        "xaxis12": {
         "anchor": "y12",
         "domain": [
          0.6799999999999999,
          0.9999999999999999
         ],
         "matches": "x",
         "showticklabels": false
        },
        "xaxis2": {
         "anchor": "y2",
         "domain": [
          0.33999999999999997,
          0.6599999999999999
         ],
         "matches": "x",
         "range": [
          1,
          61
         ],
         "title": {
          "text": "Time"
         }
        },
        "xaxis3": {
         "anchor": "y3",
         "domain": [
          0.6799999999999999,
          0.9999999999999999
         ],
         "matches": "x",
         "range": [
          1,
          61
         ],
         "title": {
          "text": "Time"
         }
        },
        "xaxis4": {
         "anchor": "y4",
         "domain": [
          0,
          0.31999999999999995
         ],
         "matches": "x",
         "showticklabels": false
        },
        "xaxis5": {
         "anchor": "y5",
         "domain": [
          0.33999999999999997,
          0.6599999999999999
         ],
         "matches": "x",
         "showticklabels": false
        },
        "xaxis6": {
         "anchor": "y6",
         "domain": [
          0.6799999999999999,
          0.9999999999999999
         ],
         "matches": "x",
         "showticklabels": false
        },
        "xaxis7": {
         "anchor": "y7",
         "domain": [
          0,
          0.31999999999999995
         ],
         "matches": "x",
         "showticklabels": false
        },
        "xaxis8": {
         "anchor": "y8",
         "domain": [
          0.33999999999999997,
          0.6599999999999999
         ],
         "matches": "x",
         "showticklabels": false
        },
        "xaxis9": {
         "anchor": "y9",
         "domain": [
          0.6799999999999999,
          0.9999999999999999
         ],
         "matches": "x",
         "showticklabels": false
        },
        "yaxis": {
         "anchor": "x",
         "domain": [
          0,
          0.1975
         ],
         "range": [
          -0.2,
          0.3
         ],
         "title": {
          "text": "limit move"
         }
        },
        "yaxis10": {
         "anchor": "x10",
         "domain": [
          0.8025,
          1
         ],
         "matches": "y",
         "range": [
          -0.2,
          0.3
         ],
         "title": {
          "text": "limit move"
         }
        },
        "yaxis11": {
         "anchor": "x11",
         "domain": [
          0.8025,
          1
         ],
         "matches": "y",
         "showticklabels": false
        },
        "yaxis12": {
         "anchor": "x12",
         "domain": [
          0.8025,
          1
         ],
         "matches": "y",
         "showticklabels": false
        },
        "yaxis2": {
         "anchor": "x2",
         "domain": [
          0,
          0.1975
         ],
         "matches": "y",
         "showticklabels": false
        },
        "yaxis3": {
         "anchor": "x3",
         "domain": [
          0,
          0.1975
         ],
         "matches": "y",
         "showticklabels": false
        },
        "yaxis4": {
         "anchor": "x4",
         "domain": [
          0.2675,
          0.465
         ],
         "matches": "y",
         "range": [
          -0.2,
          0.3
         ],
         "title": {
          "text": "limit move"
         }
        },
        "yaxis5": {
         "anchor": "x5",
         "domain": [
          0.2675,
          0.465
         ],
         "matches": "y",
         "showticklabels": false
        },
        "yaxis6": {
         "anchor": "x6",
         "domain": [
          0.2675,
          0.465
         ],
         "matches": "y",
         "showticklabels": false
        },
        "yaxis7": {
         "anchor": "x7",
         "domain": [
          0.535,
          0.7325
         ],
         "matches": "y",
         "range": [
          -0.2,
          0.3
         ],
         "title": {
          "text": "limit move"
         }
        },
        "yaxis8": {
         "anchor": "x8",
         "domain": [
          0.535,
          0.7325
         ],
         "matches": "y",
         "showticklabels": false
        },
        "yaxis9": {
         "anchor": "x9",
         "domain": [
          0.535,
          0.7325
         ],
         "matches": "y",
         "showticklabels": false
        }
       }
      }
     },
     "metadata": {},
     "output_type": "display_data"
    }
   ],
   "source": [
    "px.scatter(\n",
    "          newData,\n",
    "          x=\"Time\",\n",
    "          y=\"limit move\",\n",
    "          color=\"coinType\",\n",
    "          range_x=[1, 61],\n",
    "          range_y=[-0.2,0.3],\n",
    "          facet_col=\"coinType\",\n",
    "          facet_col_wrap=3,\n",
    "          title=\"十种加密货币日度2022年3、4月涨跌幅散点图\"\n",
    ")"
   ]
  }
 ],
 "metadata": {
  "interpreter": {
   "hash": "f8b40d688a12481f01eadf7380c47edd8a49484a47dba3db091451640e880c68"
  },
  "kernelspec": {
   "display_name": "Python 3.9.12 ('base')",
   "language": "python",
   "name": "python3"
  },
  "language_info": {
   "codemirror_mode": {
    "name": "ipython",
    "version": 3
   },
   "file_extension": ".py",
   "mimetype": "text/x-python",
   "name": "python",
   "nbconvert_exporter": "python",
   "pygments_lexer": "ipython3",
   "version": "3.9.12"
  },
  "nbTranslate": {
   "displayLangs": [
    "*"
   ],
   "hotkey": "alt-t",
   "langInMainMenu": true,
   "sourceLang": "en",
   "targetLang": "fr",
   "useGoogleTranslate": true
  },
  "toc": {
   "base_numbering": 1,
   "nav_menu": {
    "height": "91px",
    "width": "160px"
   },
   "number_sections": true,
   "sideBar": false,
   "skip_h1_title": false,
   "title_cell": "Table of Contents",
   "title_sidebar": "Contents",
   "toc_cell": false,
   "toc_position": {
    "height": "247.35px",
    "left": "22px",
    "top": "177px",
    "width": "244.363px"
   },
   "toc_section_display": true,
   "toc_window_display": true
  },
  "toc-autonumbering": true,
  "toc-showmarkdowntxt": false,
  "toc-showtags": false,
  "varInspector": {
   "cols": {
    "lenName": 16,
    "lenType": 16,
    "lenVar": 40
   },
   "kernels_config": {
    "python": {
     "delete_cmd_postfix": "",
     "delete_cmd_prefix": "del ",
     "library": "var_list.py",
     "varRefreshCmd": "print(var_dic_list())"
    },
    "r": {
     "delete_cmd_postfix": ") ",
     "delete_cmd_prefix": "rm(",
     "library": "var_list.r",
     "varRefreshCmd": "cat(var_dic_list()) "
    }
   },
   "oldHeight": 366.85,
   "position": {
    "height": "40px",
    "left": "1044.2px",
    "right": "20px",
    "top": "147px",
    "width": "453px"
   },
   "types_to_exclude": [
    "module",
    "function",
    "builtin_function_or_method",
    "instance",
    "_Feature"
   ],
   "varInspector_section_display": "none",
   "window_display": false
  }
 },
 "nbformat": 4,
 "nbformat_minor": 5
}
