{
 "cells": [
  {
   "cell_type": "code",
   "execution_count": 36,
   "metadata": {},
   "outputs": [
    {
     "data": {
      "application/vnd.plotly.v1+json": {
       "config": {
        "plotlyServerURL": "https://plot.ly"
       },
       "data": [
        {
         "alignmentgroup": "True",
         "hovertemplate": "地区=青浦区<br>animation_frame=2021<br>level_2=%{x}<br>值=%{y}<extra></extra>",
         "legendgroup": "青浦区",
         "marker": {
          "color": "#FD3216",
          "pattern": {
           "shape": ""
          }
         },
         "name": "青浦区",
         "offsetgroup": "青浦区",
         "orientation": "v",
         "showlegend": true,
         "textposition": "auto",
         "type": "bar",
         "x": [
          "GDP(亿元)",
          "一般公共预算支出(亿元)",
          "一般公共预算收入(亿元)",
          "固定资产投资(亿元)",
          "国有资本经营收入(亿元)",
          "地方政府债务余额(亿元)",
          "地方政府债务限额(亿元)",
          "政府性基金收入(亿元)",
          "社会消费品零售总额(亿元)",
          "税收收入(亿元)"
         ],
         "xaxis": "x",
         "y": [
          1317.25,
          354.9688,
          231.0988,
          625.411,
          0.4335,
          99.22,
          155.1,
          189.0477,
          574.3417,
          192.6431
         ],
         "yaxis": "y"
        },
        {
         "alignmentgroup": "True",
         "hovertemplate": "地区=奉贤区<br>animation_frame=2021<br>level_2=%{x}<br>值=%{y}<extra></extra>",
         "legendgroup": "奉贤区",
         "marker": {
          "color": "#00FE35",
          "pattern": {
           "shape": ""
          }
         },
         "name": "奉贤区",
         "offsetgroup": "奉贤区",
         "orientation": "v",
         "showlegend": true,
         "textposition": "auto",
         "type": "bar",
         "x": [
          "GDP(亿元)",
          "一般公共预算支出(亿元)",
          "一般公共预算收入(亿元)",
          "固定资产投资(亿元)",
          "国有资本经营收入(亿元)",
          "地方政府债务余额(亿元)",
          "地方政府债务限额(亿元)",
          "政府性基金收入(亿元)",
          "社会消费品零售总额(亿元)",
          "税收收入(亿元)"
         ],
         "xaxis": "x",
         "y": [
          1300,
          332.596,
          220.801,
          580,
          1.3169,
          392.3417,
          439.6,
          139.4033,
          565,
          194.3954
         ],
         "yaxis": "y"
        },
        {
         "alignmentgroup": "True",
         "hovertemplate": "地区=长宁区<br>animation_frame=2021<br>level_2=%{x}<br>值=%{y}<extra></extra>",
         "legendgroup": "长宁区",
         "marker": {
          "color": "#6A76FC",
          "pattern": {
           "shape": ""
          }
         },
         "name": "长宁区",
         "offsetgroup": "长宁区",
         "orientation": "v",
         "showlegend": true,
         "textposition": "auto",
         "type": "bar",
         "x": [
          "GDP(亿元)",
          "一般公共预算支出(亿元)",
          "一般公共预算收入(亿元)",
          "固定资产投资(亿元)",
          "国有资本经营收入(亿元)",
          "地方政府债务余额(亿元)",
          "地方政府债务限额(亿元)",
          "政府性基金收入(亿元)",
          "社会消费品零售总额(亿元)",
          "税收收入(亿元)"
         ],
         "xaxis": "x",
         "y": [
          1826.52,
          143.6284,
          150.3298,
          170.3,
          1.5501,
          95.7142,
          125.5,
          37.2635,
          596.79,
          135.0593
         ],
         "yaxis": "y"
        },
        {
         "alignmentgroup": "True",
         "hovertemplate": "地区=静安区<br>animation_frame=2021<br>level_2=%{x}<br>值=%{y}<extra></extra>",
         "legendgroup": "静安区",
         "marker": {
          "color": "#FED4C4",
          "pattern": {
           "shape": ""
          }
         },
         "name": "静安区",
         "offsetgroup": "静安区",
         "orientation": "v",
         "showlegend": true,
         "textposition": "auto",
         "type": "bar",
         "x": [
          "一般公共预算支出(亿元)",
          "一般公共预算收入(亿元)",
          "国有资本经营收入(亿元)",
          "地方政府债务余额(亿元)",
          "地方政府债务限额(亿元)",
          "政府性基金收入(亿元)",
          "社会消费品零售总额(亿元)",
          "税收收入(亿元)"
         ],
         "xaxis": "x",
         "y": [
          292.709,
          278.4788,
          2.9873,
          435.4137,
          622,
          238.2449,
          1643.3441,
          247.5923
         ],
         "yaxis": "y"
        },
        {
         "alignmentgroup": "True",
         "hovertemplate": "地区=普陀区<br>animation_frame=2021<br>level_2=%{x}<br>值=%{y}<extra></extra>",
         "legendgroup": "普陀区",
         "marker": {
          "color": "#FE00CE",
          "pattern": {
           "shape": ""
          }
         },
         "name": "普陀区",
         "offsetgroup": "普陀区",
         "orientation": "v",
         "showlegend": true,
         "textposition": "auto",
         "type": "bar",
         "x": [
          "一般公共预算支出(亿元)",
          "一般公共预算收入(亿元)",
          "国有资本经营收入(亿元)",
          "地方政府债务余额(亿元)",
          "地方政府债务限额(亿元)",
          "政府性基金收入(亿元)",
          "社会消费品零售总额(亿元)",
          "税收收入(亿元)"
         ],
         "xaxis": "x",
         "y": [
          176.3998,
          125.5577,
          2.4024,
          360.5428,
          403.3,
          205.6225,
          828.6601,
          107.6461
         ],
         "yaxis": "y"
        },
        {
         "alignmentgroup": "True",
         "hovertemplate": "地区=虹口区<br>animation_frame=2021<br>level_2=%{x}<br>值=%{y}<extra></extra>",
         "legendgroup": "虹口区",
         "marker": {
          "color": "#0DF9FF",
          "pattern": {
           "shape": ""
          }
         },
         "name": "虹口区",
         "offsetgroup": "虹口区",
         "orientation": "v",
         "showlegend": true,
         "textposition": "auto",
         "type": "bar",
         "x": [
          "一般公共预算支出(亿元)",
          "一般公共预算收入(亿元)",
          "国有资本经营收入(亿元)",
          "地方政府债务余额(亿元)",
          "地方政府债务限额(亿元)",
          "政府性基金收入(亿元)",
          "税收收入(亿元)",
          "转移性收入(亿元)"
         ],
         "xaxis": "x",
         "y": [
          195.0233,
          155.2277,
          1.6735,
          388.1,
          467.4,
          226.1602,
          139.77,
          69.1565
         ],
         "yaxis": "y"
        },
        {
         "alignmentgroup": "True",
         "hovertemplate": "地区=松江区<br>animation_frame=2021<br>level_2=%{x}<br>值=%{y}<extra></extra>",
         "legendgroup": "松江区",
         "marker": {
          "color": "#F6F926",
          "pattern": {
           "shape": ""
          }
         },
         "name": "松江区",
         "offsetgroup": "松江区",
         "orientation": "v",
         "showlegend": true,
         "textposition": "auto",
         "type": "bar",
         "x": [
          "GDP(亿元)",
          "一般公共预算支出(亿元)",
          "一般公共预算收入(亿元)",
          "国有资本经营收入(亿元)",
          "地方政府债务余额(亿元)",
          "地方政府债务限额(亿元)",
          "政府性基金收入(亿元)",
          "税收收入(亿元)",
          "转移性收入(亿元)"
         ],
         "xaxis": "x",
         "y": [
          1750,
          354.678,
          250.1045,
          2.0319,
          158.2936,
          271.3,
          153.3891,
          200.7549,
          161.2869
         ],
         "yaxis": "y"
        },
        {
         "alignmentgroup": "True",
         "hovertemplate": "地区=杨浦区<br>animation_frame=2021<br>level_2=%{x}<br>值=%{y}<extra></extra>",
         "legendgroup": "杨浦区",
         "marker": {
          "color": "#FF9616",
          "pattern": {
           "shape": ""
          }
         },
         "name": "杨浦区",
         "offsetgroup": "杨浦区",
         "orientation": "v",
         "showlegend": true,
         "textposition": "auto",
         "type": "bar",
         "x": [
          "一般公共预算支出(亿元)",
          "一般公共预算收入(亿元)",
          "国有资本经营收入(亿元)",
          "地方政府债务余额(亿元)",
          "地方政府债务限额(亿元)",
          "政府性基金收入(亿元)",
          "税收收入(亿元)"
         ],
         "xaxis": "x",
         "y": [
          205.8028,
          143.0068,
          0.3854,
          606.9422,
          642.5,
          170.4042,
          111.5714
         ],
         "yaxis": "y"
        },
        {
         "alignmentgroup": "True",
         "hovertemplate": "地区=嘉定区<br>animation_frame=2021<br>level_2=%{x}<br>值=%{y}<extra></extra>",
         "legendgroup": "嘉定区",
         "marker": {
          "color": "#479B55",
          "pattern": {
           "shape": ""
          }
         },
         "name": "嘉定区",
         "offsetgroup": "嘉定区",
         "orientation": "v",
         "showlegend": true,
         "textposition": "auto",
         "type": "bar",
         "x": [
          "GDP(亿元)",
          "一般公共预算支出(亿元)",
          "一般公共预算收入(亿元)",
          "固定资产投资(亿元)",
          "国有资本经营收入(亿元)",
          "地方政府债务余额(亿元)",
          "地方政府债务限额(亿元)",
          "政府性基金收入(亿元)",
          "社会消费品零售总额(亿元)",
          "税收收入(亿元)",
          "转移性收入(亿元)"
         ],
         "xaxis": "x",
         "y": [
          2705.6,
          336.3763,
          243.5063,
          514.3,
          1.7408,
          353.5909,
          408,
          105.9093,
          1609.9,
          224.7394,
          156.0906
         ],
         "yaxis": "y"
        },
        {
         "alignmentgroup": "True",
         "hovertemplate": "地区=浦东新区<br>animation_frame=2021<br>level_2=%{x}<br>值=%{y}<extra></extra>",
         "legendgroup": "浦东新区",
         "marker": {
          "color": "#EEA6FB",
          "pattern": {
           "shape": ""
          }
         },
         "name": "浦东新区",
         "offsetgroup": "浦东新区",
         "orientation": "v",
         "showlegend": true,
         "textposition": "auto",
         "type": "bar",
         "x": [
          "GDP(亿元)",
          "一般公共预算支出(亿元)",
          "一般公共预算收入(亿元)",
          "固定资产投资(亿元)",
          "国有资本经营收入(亿元)",
          "地方政府债务余额(亿元)",
          "地方政府债务限额(亿元)",
          "政府性基金收入(亿元)",
          "社会消费品零售总额(亿元)"
         ],
         "xaxis": "x",
         "y": [
          15353,
          1288.49,
          1173.7031,
          2716,
          20.4555,
          812.0945,
          1287.6,
          774.205,
          3832
         ],
         "yaxis": "y"
        },
        {
         "alignmentgroup": "True",
         "hovertemplate": "地区=宝山区<br>animation_frame=2021<br>level_2=%{x}<br>值=%{y}<extra></extra>",
         "legendgroup": "宝山区",
         "marker": {
          "color": "#DC587D",
          "pattern": {
           "shape": ""
          }
         },
         "name": "宝山区",
         "offsetgroup": "宝山区",
         "orientation": "v",
         "showlegend": true,
         "textposition": "auto",
         "type": "bar",
         "x": [
          "GDP(亿元)",
          "一般公共预算支出(亿元)",
          "一般公共预算收入(亿元)",
          "固定资产投资(亿元)",
          "国有资本经营收入(亿元)",
          "地方政府债务余额(亿元)",
          "地方政府债务限额(亿元)",
          "政府性基金收入(亿元)",
          "社会消费品零售总额(亿元)",
          "税收收入(亿元)"
         ],
         "xaxis": "x",
         "y": [
          1725.56,
          278.4473,
          172.9001,
          657.07,
          0.4903,
          169.2245,
          211.5,
          99.4732,
          850.39,
          146.2618
         ],
         "yaxis": "y"
        },
        {
         "alignmentgroup": "True",
         "hovertemplate": "地区=金山区<br>animation_frame=2021<br>level_2=%{x}<br>值=%{y}<extra></extra>",
         "legendgroup": "金山区",
         "marker": {
          "color": "#D626FF",
          "pattern": {
           "shape": ""
          }
         },
         "name": "金山区",
         "offsetgroup": "金山区",
         "orientation": "v",
         "showlegend": true,
         "textposition": "auto",
         "type": "bar",
         "x": [
          "GDP(亿元)",
          "一般公共预算支出(亿元)",
          "一般公共预算收入(亿元)",
          "固定资产投资(亿元)",
          "国有资本经营收入(亿元)",
          "地方政府债务余额(亿元)",
          "地方政府债务限额(亿元)",
          "政府性基金收入(亿元)",
          "社会消费品零售总额(亿元)",
          "税收收入(亿元)"
         ],
         "xaxis": "x",
         "y": [
          1182.78,
          243.8111,
          134.3158,
          341.1015,
          0.3916,
          370.6827,
          392.4,
          58.7943,
          440.001,
          119.6525
         ],
         "yaxis": "y"
        },
        {
         "alignmentgroup": "True",
         "hovertemplate": "地区=闵行区<br>animation_frame=2021<br>level_2=%{x}<br>值=%{y}<extra></extra>",
         "legendgroup": "闵行区",
         "marker": {
          "color": "#6E899C",
          "pattern": {
           "shape": ""
          }
         },
         "name": "闵行区",
         "offsetgroup": "闵行区",
         "orientation": "v",
         "showlegend": true,
         "textposition": "auto",
         "type": "bar",
         "x": [
          "一般公共预算支出(亿元)",
          "一般公共预算收入(亿元)",
          "固定资产投资(亿元)",
          "国有资本经营收入(亿元)",
          "地方政府债务余额(亿元)",
          "地方政府债务限额(亿元)",
          "政府性基金收入(亿元)",
          "社会消费品零售总额(亿元)",
          "税收收入(亿元)"
         ],
         "xaxis": "x",
         "y": [
          402.23,
          331.11,
          790.03,
          0.86,
          395,
          567.1,
          194.4,
          2108.91,
          300
         ],
         "yaxis": "y"
        },
        {
         "alignmentgroup": "True",
         "hovertemplate": "地区=徐汇区<br>animation_frame=2021<br>level_2=%{x}<br>值=%{y}<extra></extra>",
         "legendgroup": "徐汇区",
         "marker": {
          "color": "#00B5F7",
          "pattern": {
           "shape": ""
          }
         },
         "name": "徐汇区",
         "offsetgroup": "徐汇区",
         "orientation": "v",
         "showlegend": true,
         "textposition": "auto",
         "type": "bar",
         "x": [
          "一般公共预算支出(亿元)",
          "一般公共预算收入(亿元)",
          "国有资本经营收入(亿元)",
          "地方政府债务余额(亿元)",
          "地方政府债务限额(亿元)",
          "政府性基金收入(亿元)",
          "税收收入(亿元)"
         ],
         "xaxis": "x",
         "y": [
          320.9231,
          220.5377,
          1.3757,
          122.901,
          237.8,
          84.1682,
          199.6359
         ],
         "yaxis": "y"
        },
        {
         "alignmentgroup": "True",
         "hovertemplate": "地区=崇明区<br>animation_frame=2021<br>level_2=%{x}<br>值=%{y}<extra></extra>",
         "legendgroup": "崇明区",
         "marker": {
          "color": "#B68E00",
          "pattern": {
           "shape": ""
          }
         },
         "name": "崇明区",
         "offsetgroup": "崇明区",
         "orientation": "v",
         "showlegend": true,
         "textposition": "auto",
         "type": "bar",
         "x": [
          "一般公共预算支出(亿元)",
          "一般公共预算收入(亿元)",
          "固定资产投资(亿元)",
          "国有资本经营收入(亿元)",
          "地方政府债务余额(亿元)",
          "地方政府债务限额(亿元)",
          "政府性基金收入(亿元)",
          "社会消费品零售总额(亿元)",
          "税收收入(亿元)"
         ],
         "xaxis": "x",
         "y": [
          338.8233,
          146.0488,
          232.8554,
          0.1265,
          239.8898,
          281.1,
          40.8057,
          143.5078,
          138.2987
         ],
         "yaxis": "y"
        },
        {
         "alignmentgroup": "True",
         "hovertemplate": "地区=黄浦区<br>animation_frame=2021<br>level_2=%{x}<br>值=%{y}<extra></extra>",
         "legendgroup": "黄浦区",
         "marker": {
          "color": "#C9FBE5",
          "pattern": {
           "shape": ""
          }
         },
         "name": "黄浦区",
         "offsetgroup": "黄浦区",
         "orientation": "v",
         "showlegend": true,
         "textposition": "auto",
         "type": "bar",
         "x": [
          "GDP(亿元)",
          "一般公共预算支出(亿元)",
          "一般公共预算收入(亿元)",
          "国有资本经营收入(亿元)",
          "地方政府债务余额(亿元)",
          "地方政府债务限额(亿元)",
          "政府性基金收入(亿元)",
          "社会消费品零售总额(亿元)",
          "税收收入(亿元)"
         ],
         "xaxis": "x",
         "y": [
          2902.4,
          322.6753,
          267.0328,
          6.3799,
          408.7546,
          538.1,
          111.5545,
          1586.34,
          241.0207
         ],
         "yaxis": "y"
        }
       ],
       "frames": [
        {
         "data": [
          {
           "alignmentgroup": "True",
           "hovertemplate": "地区=青浦区<br>animation_frame=2021<br>level_2=%{x}<br>值=%{y}<extra></extra>",
           "legendgroup": "青浦区",
           "marker": {
            "color": "#FD3216",
            "pattern": {
             "shape": ""
            }
           },
           "name": "青浦区",
           "offsetgroup": "青浦区",
           "orientation": "v",
           "showlegend": true,
           "textposition": "auto",
           "type": "bar",
           "x": [
            "GDP(亿元)",
            "一般公共预算支出(亿元)",
            "一般公共预算收入(亿元)",
            "固定资产投资(亿元)",
            "国有资本经营收入(亿元)",
            "地方政府债务余额(亿元)",
            "地方政府债务限额(亿元)",
            "政府性基金收入(亿元)",
            "社会消费品零售总额(亿元)",
            "税收收入(亿元)"
           ],
           "xaxis": "x",
           "y": [
            1317.25,
            354.9688,
            231.0988,
            625.411,
            0.4335,
            99.22,
            155.1,
            189.0477,
            574.3417,
            192.6431
           ],
           "yaxis": "y"
          },
          {
           "alignmentgroup": "True",
           "hovertemplate": "地区=奉贤区<br>animation_frame=2021<br>level_2=%{x}<br>值=%{y}<extra></extra>",
           "legendgroup": "奉贤区",
           "marker": {
            "color": "#00FE35",
            "pattern": {
             "shape": ""
            }
           },
           "name": "奉贤区",
           "offsetgroup": "奉贤区",
           "orientation": "v",
           "showlegend": true,
           "textposition": "auto",
           "type": "bar",
           "x": [
            "GDP(亿元)",
            "一般公共预算支出(亿元)",
            "一般公共预算收入(亿元)",
            "固定资产投资(亿元)",
            "国有资本经营收入(亿元)",
            "地方政府债务余额(亿元)",
            "地方政府债务限额(亿元)",
            "政府性基金收入(亿元)",
            "社会消费品零售总额(亿元)",
            "税收收入(亿元)"
           ],
           "xaxis": "x",
           "y": [
            1300,
            332.596,
            220.801,
            580,
            1.3169,
            392.3417,
            439.6,
            139.4033,
            565,
            194.3954
           ],
           "yaxis": "y"
          },
          {
           "alignmentgroup": "True",
           "hovertemplate": "地区=长宁区<br>animation_frame=2021<br>level_2=%{x}<br>值=%{y}<extra></extra>",
           "legendgroup": "长宁区",
           "marker": {
            "color": "#6A76FC",
            "pattern": {
             "shape": ""
            }
           },
           "name": "长宁区",
           "offsetgroup": "长宁区",
           "orientation": "v",
           "showlegend": true,
           "textposition": "auto",
           "type": "bar",
           "x": [
            "GDP(亿元)",
            "一般公共预算支出(亿元)",
            "一般公共预算收入(亿元)",
            "固定资产投资(亿元)",
            "国有资本经营收入(亿元)",
            "地方政府债务余额(亿元)",
            "地方政府债务限额(亿元)",
            "政府性基金收入(亿元)",
            "社会消费品零售总额(亿元)",
            "税收收入(亿元)"
           ],
           "xaxis": "x",
           "y": [
            1826.52,
            143.6284,
            150.3298,
            170.3,
            1.5501,
            95.7142,
            125.5,
            37.2635,
            596.79,
            135.0593
           ],
           "yaxis": "y"
          },
          {
           "alignmentgroup": "True",
           "hovertemplate": "地区=静安区<br>animation_frame=2021<br>level_2=%{x}<br>值=%{y}<extra></extra>",
           "legendgroup": "静安区",
           "marker": {
            "color": "#FED4C4",
            "pattern": {
             "shape": ""
            }
           },
           "name": "静安区",
           "offsetgroup": "静安区",
           "orientation": "v",
           "showlegend": true,
           "textposition": "auto",
           "type": "bar",
           "x": [
            "一般公共预算支出(亿元)",
            "一般公共预算收入(亿元)",
            "国有资本经营收入(亿元)",
            "地方政府债务余额(亿元)",
            "地方政府债务限额(亿元)",
            "政府性基金收入(亿元)",
            "社会消费品零售总额(亿元)",
            "税收收入(亿元)"
           ],
           "xaxis": "x",
           "y": [
            292.709,
            278.4788,
            2.9873,
            435.4137,
            622,
            238.2449,
            1643.3441,
            247.5923
           ],
           "yaxis": "y"
          },
          {
           "alignmentgroup": "True",
           "hovertemplate": "地区=普陀区<br>animation_frame=2021<br>level_2=%{x}<br>值=%{y}<extra></extra>",
           "legendgroup": "普陀区",
           "marker": {
            "color": "#FE00CE",
            "pattern": {
             "shape": ""
            }
           },
           "name": "普陀区",
           "offsetgroup": "普陀区",
           "orientation": "v",
           "showlegend": true,
           "textposition": "auto",
           "type": "bar",
           "x": [
            "一般公共预算支出(亿元)",
            "一般公共预算收入(亿元)",
            "国有资本经营收入(亿元)",
            "地方政府债务余额(亿元)",
            "地方政府债务限额(亿元)",
            "政府性基金收入(亿元)",
            "社会消费品零售总额(亿元)",
            "税收收入(亿元)"
           ],
           "xaxis": "x",
           "y": [
            176.3998,
            125.5577,
            2.4024,
            360.5428,
            403.3,
            205.6225,
            828.6601,
            107.6461
           ],
           "yaxis": "y"
          },
          {
           "alignmentgroup": "True",
           "hovertemplate": "地区=虹口区<br>animation_frame=2021<br>level_2=%{x}<br>值=%{y}<extra></extra>",
           "legendgroup": "虹口区",
           "marker": {
            "color": "#0DF9FF",
            "pattern": {
             "shape": ""
            }
           },
           "name": "虹口区",
           "offsetgroup": "虹口区",
           "orientation": "v",
           "showlegend": true,
           "textposition": "auto",
           "type": "bar",
           "x": [
            "一般公共预算支出(亿元)",
            "一般公共预算收入(亿元)",
            "国有资本经营收入(亿元)",
            "地方政府债务余额(亿元)",
            "地方政府债务限额(亿元)",
            "政府性基金收入(亿元)",
            "税收收入(亿元)",
            "转移性收入(亿元)"
           ],
           "xaxis": "x",
           "y": [
            195.0233,
            155.2277,
            1.6735,
            388.1,
            467.4,
            226.1602,
            139.77,
            69.1565
           ],
           "yaxis": "y"
          },
          {
           "alignmentgroup": "True",
           "hovertemplate": "地区=松江区<br>animation_frame=2021<br>level_2=%{x}<br>值=%{y}<extra></extra>",
           "legendgroup": "松江区",
           "marker": {
            "color": "#F6F926",
            "pattern": {
             "shape": ""
            }
           },
           "name": "松江区",
           "offsetgroup": "松江区",
           "orientation": "v",
           "showlegend": true,
           "textposition": "auto",
           "type": "bar",
           "x": [
            "GDP(亿元)",
            "一般公共预算支出(亿元)",
            "一般公共预算收入(亿元)",
            "国有资本经营收入(亿元)",
            "地方政府债务余额(亿元)",
            "地方政府债务限额(亿元)",
            "政府性基金收入(亿元)",
            "税收收入(亿元)",
            "转移性收入(亿元)"
           ],
           "xaxis": "x",
           "y": [
            1750,
            354.678,
            250.1045,
            2.0319,
            158.2936,
            271.3,
            153.3891,
            200.7549,
            161.2869
           ],
           "yaxis": "y"
          },
          {
           "alignmentgroup": "True",
           "hovertemplate": "地区=杨浦区<br>animation_frame=2021<br>level_2=%{x}<br>值=%{y}<extra></extra>",
           "legendgroup": "杨浦区",
           "marker": {
            "color": "#FF9616",
            "pattern": {
             "shape": ""
            }
           },
           "name": "杨浦区",
           "offsetgroup": "杨浦区",
           "orientation": "v",
           "showlegend": true,
           "textposition": "auto",
           "type": "bar",
           "x": [
            "一般公共预算支出(亿元)",
            "一般公共预算收入(亿元)",
            "国有资本经营收入(亿元)",
            "地方政府债务余额(亿元)",
            "地方政府债务限额(亿元)",
            "政府性基金收入(亿元)",
            "税收收入(亿元)"
           ],
           "xaxis": "x",
           "y": [
            205.8028,
            143.0068,
            0.3854,
            606.9422,
            642.5,
            170.4042,
            111.5714
           ],
           "yaxis": "y"
          },
          {
           "alignmentgroup": "True",
           "hovertemplate": "地区=嘉定区<br>animation_frame=2021<br>level_2=%{x}<br>值=%{y}<extra></extra>",
           "legendgroup": "嘉定区",
           "marker": {
            "color": "#479B55",
            "pattern": {
             "shape": ""
            }
           },
           "name": "嘉定区",
           "offsetgroup": "嘉定区",
           "orientation": "v",
           "showlegend": true,
           "textposition": "auto",
           "type": "bar",
           "x": [
            "GDP(亿元)",
            "一般公共预算支出(亿元)",
            "一般公共预算收入(亿元)",
            "固定资产投资(亿元)",
            "国有资本经营收入(亿元)",
            "地方政府债务余额(亿元)",
            "地方政府债务限额(亿元)",
            "政府性基金收入(亿元)",
            "社会消费品零售总额(亿元)",
            "税收收入(亿元)",
            "转移性收入(亿元)"
           ],
           "xaxis": "x",
           "y": [
            2705.6,
            336.3763,
            243.5063,
            514.3,
            1.7408,
            353.5909,
            408,
            105.9093,
            1609.9,
            224.7394,
            156.0906
           ],
           "yaxis": "y"
          },
          {
           "alignmentgroup": "True",
           "hovertemplate": "地区=浦东新区<br>animation_frame=2021<br>level_2=%{x}<br>值=%{y}<extra></extra>",
           "legendgroup": "浦东新区",
           "marker": {
            "color": "#EEA6FB",
            "pattern": {
             "shape": ""
            }
           },
           "name": "浦东新区",
           "offsetgroup": "浦东新区",
           "orientation": "v",
           "showlegend": true,
           "textposition": "auto",
           "type": "bar",
           "x": [
            "GDP(亿元)",
            "一般公共预算支出(亿元)",
            "一般公共预算收入(亿元)",
            "固定资产投资(亿元)",
            "国有资本经营收入(亿元)",
            "地方政府债务余额(亿元)",
            "地方政府债务限额(亿元)",
            "政府性基金收入(亿元)",
            "社会消费品零售总额(亿元)"
           ],
           "xaxis": "x",
           "y": [
            15353,
            1288.49,
            1173.7031,
            2716,
            20.4555,
            812.0945,
            1287.6,
            774.205,
            3832
           ],
           "yaxis": "y"
          },
          {
           "alignmentgroup": "True",
           "hovertemplate": "地区=宝山区<br>animation_frame=2021<br>level_2=%{x}<br>值=%{y}<extra></extra>",
           "legendgroup": "宝山区",
           "marker": {
            "color": "#DC587D",
            "pattern": {
             "shape": ""
            }
           },
           "name": "宝山区",
           "offsetgroup": "宝山区",
           "orientation": "v",
           "showlegend": true,
           "textposition": "auto",
           "type": "bar",
           "x": [
            "GDP(亿元)",
            "一般公共预算支出(亿元)",
            "一般公共预算收入(亿元)",
            "固定资产投资(亿元)",
            "国有资本经营收入(亿元)",
            "地方政府债务余额(亿元)",
            "地方政府债务限额(亿元)",
            "政府性基金收入(亿元)",
            "社会消费品零售总额(亿元)",
            "税收收入(亿元)"
           ],
           "xaxis": "x",
           "y": [
            1725.56,
            278.4473,
            172.9001,
            657.07,
            0.4903,
            169.2245,
            211.5,
            99.4732,
            850.39,
            146.2618
           ],
           "yaxis": "y"
          },
          {
           "alignmentgroup": "True",
           "hovertemplate": "地区=金山区<br>animation_frame=2021<br>level_2=%{x}<br>值=%{y}<extra></extra>",
           "legendgroup": "金山区",
           "marker": {
            "color": "#D626FF",
            "pattern": {
             "shape": ""
            }
           },
           "name": "金山区",
           "offsetgroup": "金山区",
           "orientation": "v",
           "showlegend": true,
           "textposition": "auto",
           "type": "bar",
           "x": [
            "GDP(亿元)",
            "一般公共预算支出(亿元)",
            "一般公共预算收入(亿元)",
            "固定资产投资(亿元)",
            "国有资本经营收入(亿元)",
            "地方政府债务余额(亿元)",
            "地方政府债务限额(亿元)",
            "政府性基金收入(亿元)",
            "社会消费品零售总额(亿元)",
            "税收收入(亿元)"
           ],
           "xaxis": "x",
           "y": [
            1182.78,
            243.8111,
            134.3158,
            341.1015,
            0.3916,
            370.6827,
            392.4,
            58.7943,
            440.001,
            119.6525
           ],
           "yaxis": "y"
          },
          {
           "alignmentgroup": "True",
           "hovertemplate": "地区=闵行区<br>animation_frame=2021<br>level_2=%{x}<br>值=%{y}<extra></extra>",
           "legendgroup": "闵行区",
           "marker": {
            "color": "#6E899C",
            "pattern": {
             "shape": ""
            }
           },
           "name": "闵行区",
           "offsetgroup": "闵行区",
           "orientation": "v",
           "showlegend": true,
           "textposition": "auto",
           "type": "bar",
           "x": [
            "一般公共预算支出(亿元)",
            "一般公共预算收入(亿元)",
            "固定资产投资(亿元)",
            "国有资本经营收入(亿元)",
            "地方政府债务余额(亿元)",
            "地方政府债务限额(亿元)",
            "政府性基金收入(亿元)",
            "社会消费品零售总额(亿元)",
            "税收收入(亿元)"
           ],
           "xaxis": "x",
           "y": [
            402.23,
            331.11,
            790.03,
            0.86,
            395,
            567.1,
            194.4,
            2108.91,
            300
           ],
           "yaxis": "y"
          },
          {
           "alignmentgroup": "True",
           "hovertemplate": "地区=徐汇区<br>animation_frame=2021<br>level_2=%{x}<br>值=%{y}<extra></extra>",
           "legendgroup": "徐汇区",
           "marker": {
            "color": "#00B5F7",
            "pattern": {
             "shape": ""
            }
           },
           "name": "徐汇区",
           "offsetgroup": "徐汇区",
           "orientation": "v",
           "showlegend": true,
           "textposition": "auto",
           "type": "bar",
           "x": [
            "一般公共预算支出(亿元)",
            "一般公共预算收入(亿元)",
            "国有资本经营收入(亿元)",
            "地方政府债务余额(亿元)",
            "地方政府债务限额(亿元)",
            "政府性基金收入(亿元)",
            "税收收入(亿元)"
           ],
           "xaxis": "x",
           "y": [
            320.9231,
            220.5377,
            1.3757,
            122.901,
            237.8,
            84.1682,
            199.6359
           ],
           "yaxis": "y"
          },
          {
           "alignmentgroup": "True",
           "hovertemplate": "地区=崇明区<br>animation_frame=2021<br>level_2=%{x}<br>值=%{y}<extra></extra>",
           "legendgroup": "崇明区",
           "marker": {
            "color": "#B68E00",
            "pattern": {
             "shape": ""
            }
           },
           "name": "崇明区",
           "offsetgroup": "崇明区",
           "orientation": "v",
           "showlegend": true,
           "textposition": "auto",
           "type": "bar",
           "x": [
            "一般公共预算支出(亿元)",
            "一般公共预算收入(亿元)",
            "固定资产投资(亿元)",
            "国有资本经营收入(亿元)",
            "地方政府债务余额(亿元)",
            "地方政府债务限额(亿元)",
            "政府性基金收入(亿元)",
            "社会消费品零售总额(亿元)",
            "税收收入(亿元)"
           ],
           "xaxis": "x",
           "y": [
            338.8233,
            146.0488,
            232.8554,
            0.1265,
            239.8898,
            281.1,
            40.8057,
            143.5078,
            138.2987
           ],
           "yaxis": "y"
          },
          {
           "alignmentgroup": "True",
           "hovertemplate": "地区=黄浦区<br>animation_frame=2021<br>level_2=%{x}<br>值=%{y}<extra></extra>",
           "legendgroup": "黄浦区",
           "marker": {
            "color": "#C9FBE5",
            "pattern": {
             "shape": ""
            }
           },
           "name": "黄浦区",
           "offsetgroup": "黄浦区",
           "orientation": "v",
           "showlegend": true,
           "textposition": "auto",
           "type": "bar",
           "x": [
            "GDP(亿元)",
            "一般公共预算支出(亿元)",
            "一般公共预算收入(亿元)",
            "国有资本经营收入(亿元)",
            "地方政府债务余额(亿元)",
            "地方政府债务限额(亿元)",
            "政府性基金收入(亿元)",
            "社会消费品零售总额(亿元)",
            "税收收入(亿元)"
           ],
           "xaxis": "x",
           "y": [
            2902.4,
            322.6753,
            267.0328,
            6.3799,
            408.7546,
            538.1,
            111.5545,
            1586.34,
            241.0207
           ],
           "yaxis": "y"
          }
         ],
         "name": "2021"
        },
        {
         "data": [
          {
           "alignmentgroup": "True",
           "hovertemplate": "地区=青浦区<br>animation_frame=2020<br>level_2=%{x}<br>值=%{y}<extra></extra>",
           "legendgroup": "青浦区",
           "marker": {
            "color": "#FD3216",
            "pattern": {
             "shape": ""
            }
           },
           "name": "青浦区",
           "offsetgroup": "青浦区",
           "orientation": "v",
           "showlegend": true,
           "textposition": "auto",
           "type": "bar",
           "x": [
            "GDP(亿元)",
            "一般公共预算支出(亿元)",
            "一般公共预算收入(亿元)",
            "固定资产投资(亿元)",
            "国有资本经营收入(亿元)",
            "地方政府债务余额(亿元)",
            "地方政府债务限额(亿元)",
            "政府性基金收入(亿元)",
            "社会消费品零售总额(亿元)",
            "税收收入(亿元)"
           ],
           "xaxis": "x",
           "y": [
            1194.01,
            336.7595,
            210.1,
            598.55,
            0.439,
            86.13,
            136,
            171.6696,
            519.08,
            179.5939
           ],
           "yaxis": "y"
          },
          {
           "alignmentgroup": "True",
           "hovertemplate": "地区=奉贤区<br>animation_frame=2020<br>level_2=%{x}<br>值=%{y}<extra></extra>",
           "legendgroup": "奉贤区",
           "marker": {
            "color": "#00FE35",
            "pattern": {
             "shape": ""
            }
           },
           "name": "奉贤区",
           "offsetgroup": "奉贤区",
           "orientation": "v",
           "showlegend": true,
           "textposition": "auto",
           "type": "bar",
           "x": [
            "GDP(亿元)",
            "一般公共预算支出(亿元)",
            "一般公共预算收入(亿元)",
            "固定资产投资(亿元)",
            "国有资本经营收入(亿元)",
            "地方政府债务余额(亿元)",
            "地方政府债务限额(亿元)",
            "政府性基金收入(亿元)",
            "社会消费品零售总额(亿元)",
            "税收收入(亿元)"
           ],
           "xaxis": "x",
           "y": [
            1190.19,
            259.217,
            161.5955,
            527.331,
            1.6143,
            370.44,
            417.6,
            134.212,
            516.7281,
            148.1791
           ],
           "yaxis": "y"
          },
          {
           "alignmentgroup": "True",
           "hovertemplate": "地区=长宁区<br>animation_frame=2020<br>level_2=%{x}<br>值=%{y}<extra></extra>",
           "legendgroup": "长宁区",
           "marker": {
            "color": "#6A76FC",
            "pattern": {
             "shape": ""
            }
           },
           "name": "长宁区",
           "offsetgroup": "长宁区",
           "orientation": "v",
           "showlegend": true,
           "textposition": "auto",
           "type": "bar",
           "x": [
            "GDP(亿元)",
            "一般公共预算支出(亿元)",
            "一般公共预算收入(亿元)",
            "固定资产投资(亿元)",
            "国有资本经营收入(亿元)",
            "地方政府债务余额(亿元)",
            "地方政府债务限额(亿元)",
            "政府性基金收入(亿元)",
            "社会消费品零售总额(亿元)",
            "税收收入(亿元)"
           ],
           "xaxis": "x",
           "y": [
            1561.17,
            148.3901,
            129.0318,
            154.8912,
            1.1266,
            96.29,
            125.5,
            31.2205,
            542.1411,
            111.6816
           ],
           "yaxis": "y"
          },
          {
           "alignmentgroup": "True",
           "hovertemplate": "地区=静安区<br>animation_frame=2020<br>level_2=%{x}<br>值=%{y}<extra></extra>",
           "legendgroup": "静安区",
           "marker": {
            "color": "#FED4C4",
            "pattern": {
             "shape": ""
            }
           },
           "name": "静安区",
           "offsetgroup": "静安区",
           "orientation": "v",
           "showlegend": true,
           "textposition": "auto",
           "type": "bar",
           "x": [
            "GDP(亿元)",
            "一般公共预算支出(亿元)",
            "一般公共预算收入(亿元)",
            "固定资产投资(亿元)",
            "国有资本经营收入(亿元)",
            "地方政府债务余额(亿元)",
            "地方政府债务限额(亿元)",
            "政府性基金收入(亿元)",
            "社会消费品零售总额(亿元)",
            "税收收入(亿元)"
           ],
           "xaxis": "x",
           "y": [
            2323.08,
            295.6987,
            250.1366,
            308.0593,
            2.5364,
            474.6183,
            622,
            108.4873,
            1367.4639,
            218.6811
           ],
           "yaxis": "y"
          },
          {
           "alignmentgroup": "True",
           "hovertemplate": "地区=普陀区<br>animation_frame=2020<br>level_2=%{x}<br>值=%{y}<extra></extra>",
           "legendgroup": "普陀区",
           "marker": {
            "color": "#FE00CE",
            "pattern": {
             "shape": ""
            }
           },
           "name": "普陀区",
           "offsetgroup": "普陀区",
           "orientation": "v",
           "showlegend": true,
           "textposition": "auto",
           "type": "bar",
           "x": [
            "GDP(亿元)",
            "一般公共预算支出(亿元)",
            "一般公共预算收入(亿元)",
            "固定资产投资(亿元)",
            "国有资本经营收入(亿元)",
            "地方政府债务余额(亿元)",
            "地方政府债务限额(亿元)",
            "政府性基金收入(亿元)",
            "社会消费品零售总额(亿元)",
            "税收收入(亿元)"
           ],
           "xaxis": "x",
           "y": [
            1129.51,
            168.5558,
            110.6277,
            292.18,
            2.0117,
            361.1844,
            398.1,
            115.1403,
            658.24,
            97.9685
           ],
           "yaxis": "y"
          },
          {
           "alignmentgroup": "True",
           "hovertemplate": "地区=虹口区<br>animation_frame=2020<br>level_2=%{x}<br>值=%{y}<extra></extra>",
           "legendgroup": "虹口区",
           "marker": {
            "color": "#0DF9FF",
            "pattern": {
             "shape": ""
            }
           },
           "name": "虹口区",
           "offsetgroup": "虹口区",
           "orientation": "v",
           "showlegend": true,
           "textposition": "auto",
           "type": "bar",
           "x": [
            "GDP(亿元)",
            "一般公共预算支出(亿元)",
            "一般公共预算收入(亿元)",
            "固定资产投资(亿元)",
            "国有资本经营收入(亿元)",
            "地方政府债务余额(亿元)",
            "地方政府债务限额(亿元)",
            "政府性基金收入(亿元)",
            "社会消费品零售总额(亿元)",
            "税收收入(亿元)",
            "转移性收入(亿元)"
           ],
           "xaxis": "x",
           "y": [
            1047.28,
            162.6597,
            119.3888,
            237.2,
            0.9003,
            393.4,
            434.2,
            68.0348,
            398.613,
            107.5108,
            85.7839
           ],
           "yaxis": "y"
          },
          {
           "alignmentgroup": "True",
           "hovertemplate": "地区=松江区<br>animation_frame=2020<br>level_2=%{x}<br>值=%{y}<extra></extra>",
           "legendgroup": "松江区",
           "marker": {
            "color": "#F6F926",
            "pattern": {
             "shape": ""
            }
           },
           "name": "松江区",
           "offsetgroup": "松江区",
           "orientation": "v",
           "showlegend": true,
           "textposition": "auto",
           "type": "bar",
           "x": [
            "GDP(亿元)",
            "一般公共预算支出(亿元)",
            "一般公共预算收入(亿元)",
            "固定资产投资(亿元)",
            "国有资本经营收入(亿元)",
            "地方政府债务余额(亿元)",
            "地方政府债务限额(亿元)",
            "政府性基金收入(亿元)",
            "社会消费品零售总额(亿元)",
            "税收收入(亿元)",
            "转移性收入(亿元)"
           ],
           "xaxis": "x",
           "y": [
            1637.11,
            319.0119,
            220.6222,
            604.76,
            2.7294,
            148.2936,
            261.3,
            71.3629,
            604.73,
            186.1714,
            167.967
           ],
           "yaxis": "y"
          },
          {
           "alignmentgroup": "True",
           "hovertemplate": "地区=杨浦区<br>animation_frame=2020<br>level_2=%{x}<br>值=%{y}<extra></extra>",
           "legendgroup": "杨浦区",
           "marker": {
            "color": "#FF9616",
            "pattern": {
             "shape": ""
            }
           },
           "name": "杨浦区",
           "offsetgroup": "杨浦区",
           "orientation": "v",
           "showlegend": true,
           "textposition": "auto",
           "type": "bar",
           "x": [
            "GDP(亿元)",
            "一般公共预算支出(亿元)",
            "一般公共预算收入(亿元)",
            "固定资产投资(亿元)",
            "国有资本经营收入(亿元)",
            "地方政府债务余额(亿元)",
            "地方政府债务限额(亿元)",
            "政府性基金收入(亿元)",
            "社会消费品零售总额(亿元)",
            "税收收入(亿元)"
           ],
           "xaxis": "x",
           "y": [
            2106.63,
            201.6969,
            128.4499,
            248.74,
            1.4992,
            507.2419,
            537.4,
            116.9948,
            649.54,
            109.5596
           ],
           "yaxis": "y"
          },
          {
           "alignmentgroup": "True",
           "hovertemplate": "地区=嘉定区<br>animation_frame=2020<br>level_2=%{x}<br>值=%{y}<extra></extra>",
           "legendgroup": "嘉定区",
           "marker": {
            "color": "#479B55",
            "pattern": {
             "shape": ""
            }
           },
           "name": "嘉定区",
           "offsetgroup": "嘉定区",
           "orientation": "v",
           "showlegend": true,
           "textposition": "auto",
           "type": "bar",
           "x": [
            "GDP(亿元)",
            "一般公共预算支出(亿元)",
            "一般公共预算收入(亿元)",
            "固定资产投资(亿元)",
            "国有资本经营收入(亿元)",
            "地方政府债务余额(亿元)",
            "地方政府债务限额(亿元)",
            "政府性基金收入(亿元)",
            "社会消费品零售总额(亿元)",
            "税收收入(亿元)",
            "转移性收入(亿元)"
           ],
           "xaxis": "x",
           "y": [
            2488.44,
            309.3004,
            220.4,
            429.7,
            1.5745,
            360.659,
            405.4,
            234.2387,
            1513,
            194.2572,
            195.2764
           ],
           "yaxis": "y"
          },
          {
           "alignmentgroup": "True",
           "hovertemplate": "地区=浦东新区<br>animation_frame=2020<br>level_2=%{x}<br>值=%{y}<extra></extra>",
           "legendgroup": "浦东新区",
           "marker": {
            "color": "#EEA6FB",
            "pattern": {
             "shape": ""
            }
           },
           "name": "浦东新区",
           "offsetgroup": "浦东新区",
           "orientation": "v",
           "showlegend": true,
           "textposition": "auto",
           "type": "bar",
           "x": [
            "GDP(亿元)",
            "一般公共预算支出(亿元)",
            "一般公共预算收入(亿元)",
            "固定资产投资(亿元)",
            "国有资本经营收入(亿元)",
            "地方政府债务余额(亿元)",
            "地方政府债务限额(亿元)",
            "政府性基金收入(亿元)",
            "社会消费品零售总额(亿元)",
            "税收收入(亿元)"
           ],
           "xaxis": "x",
           "y": [
            13207.03,
            1258.6986,
            1077.0026,
            2450.79,
            16.211,
            911.3496,
            1390.2,
            618.7094,
            3183.22,
            1019.453
           ],
           "yaxis": "y"
          },
          {
           "alignmentgroup": "True",
           "hovertemplate": "地区=宝山区<br>animation_frame=2020<br>level_2=%{x}<br>值=%{y}<extra></extra>",
           "legendgroup": "宝山区",
           "marker": {
            "color": "#DC587D",
            "pattern": {
             "shape": ""
            }
           },
           "name": "宝山区",
           "offsetgroup": "宝山区",
           "orientation": "v",
           "showlegend": true,
           "textposition": "auto",
           "type": "bar",
           "x": [
            "GDP(亿元)",
            "一般公共预算支出(亿元)",
            "一般公共预算收入(亿元)",
            "固定资产投资(亿元)",
            "国有资本经营收入(亿元)",
            "地方政府债务余额(亿元)",
            "地方政府债务限额(亿元)",
            "政府性基金收入(亿元)",
            "社会消费品零售总额(亿元)",
            "税收收入(亿元)"
           ],
           "xaxis": "x",
           "y": [
            1578.48,
            261.2598,
            152.9734,
            645.46,
            0.5789,
            160.8608,
            200.1,
            149.1713,
            780.83,
            134.2198
           ],
           "yaxis": "y"
          },
          {
           "alignmentgroup": "True",
           "hovertemplate": "地区=金山区<br>animation_frame=2020<br>level_2=%{x}<br>值=%{y}<extra></extra>",
           "legendgroup": "金山区",
           "marker": {
            "color": "#D626FF",
            "pattern": {
             "shape": ""
            }
           },
           "name": "金山区",
           "offsetgroup": "金山区",
           "orientation": "v",
           "showlegend": true,
           "textposition": "auto",
           "type": "bar",
           "x": [
            "GDP(亿元)",
            "一般公共预算支出(亿元)",
            "一般公共预算收入(亿元)",
            "固定资产投资(亿元)",
            "国有资本经营收入(亿元)",
            "地方政府债务余额(亿元)",
            "地方政府债务限额(亿元)",
            "政府性基金收入(亿元)",
            "社会消费品零售总额(亿元)",
            "税收收入(亿元)"
           ],
           "xaxis": "x",
           "y": [
            1076.28,
            229.8504,
            126.3158,
            312.9936,
            0.5494,
            355.9,
            377.5,
            23.9175,
            391.3283,
            111.4156
           ],
           "yaxis": "y"
          },
          {
           "alignmentgroup": "True",
           "hovertemplate": "地区=闵行区<br>animation_frame=2020<br>level_2=%{x}<br>值=%{y}<extra></extra>",
           "legendgroup": "闵行区",
           "marker": {
            "color": "#6E899C",
            "pattern": {
             "shape": ""
            }
           },
           "name": "闵行区",
           "offsetgroup": "闵行区",
           "orientation": "v",
           "showlegend": true,
           "textposition": "auto",
           "type": "bar",
           "x": [
            "GDP(亿元)",
            "一般公共预算支出(亿元)",
            "一般公共预算收入(亿元)",
            "固定资产投资(亿元)",
            "国有资本经营收入(亿元)",
            "地方政府债务余额(亿元)",
            "地方政府债务限额(亿元)",
            "政府性基金收入(亿元)",
            "社会消费品零售总额(亿元)",
            "税收收入(亿元)"
           ],
           "xaxis": "x",
           "y": [
            2564.82,
            429.8,
            298.3,
            730.71,
            1.1,
            446.3,
            554,
            196.1,
            1900.24,
            268.6
           ],
           "yaxis": "y"
          },
          {
           "alignmentgroup": "True",
           "hovertemplate": "地区=徐汇区<br>animation_frame=2020<br>level_2=%{x}<br>值=%{y}<extra></extra>",
           "legendgroup": "徐汇区",
           "marker": {
            "color": "#00B5F7",
            "pattern": {
             "shape": ""
            }
           },
           "name": "徐汇区",
           "offsetgroup": "徐汇区",
           "orientation": "v",
           "showlegend": true,
           "textposition": "auto",
           "type": "bar",
           "x": [
            "GDP(亿元)",
            "一般公共预算支出(亿元)",
            "一般公共预算收入(亿元)",
            "固定资产投资(亿元)",
            "国有资本经营收入(亿元)",
            "地方政府债务余额(亿元)",
            "地方政府债务限额(亿元)",
            "政府性基金收入(亿元)",
            "社会消费品零售总额(亿元)",
            "税收收入(亿元)"
           ],
           "xaxis": "x",
           "y": [
            2176.73,
            306.5643,
            198.0968,
            324.71,
            2.2599,
            123.02,
            237.8,
            152.6481,
            1072.31,
            164.0847
           ],
           "yaxis": "y"
          },
          {
           "alignmentgroup": "True",
           "hovertemplate": "地区=崇明区<br>animation_frame=2020<br>level_2=%{x}<br>值=%{y}<extra></extra>",
           "legendgroup": "崇明区",
           "marker": {
            "color": "#B68E00",
            "pattern": {
             "shape": ""
            }
           },
           "name": "崇明区",
           "offsetgroup": "崇明区",
           "orientation": "v",
           "showlegend": true,
           "textposition": "auto",
           "type": "bar",
           "x": [
            "GDP(亿元)",
            "一般公共预算支出(亿元)",
            "一般公共预算收入(亿元)",
            "固定资产投资(亿元)",
            "国有资本经营收入(亿元)",
            "地方政府债务余额(亿元)",
            "地方政府债务限额(亿元)",
            "政府性基金收入(亿元)",
            "社会消费品零售总额(亿元)",
            "税收收入(亿元)"
           ],
           "xaxis": "x",
           "y": [
            381.83,
            385.4224,
            119.0015,
            263.12,
            0.0925,
            234.9025,
            274.6,
            76.3664,
            128.41,
            112.2467
           ],
           "yaxis": "y"
          },
          {
           "alignmentgroup": "True",
           "hovertemplate": "地区=黄浦区<br>animation_frame=2020<br>level_2=%{x}<br>值=%{y}<extra></extra>",
           "legendgroup": "黄浦区",
           "marker": {
            "color": "#C9FBE5",
            "pattern": {
             "shape": ""
            }
           },
           "name": "黄浦区",
           "offsetgroup": "黄浦区",
           "orientation": "v",
           "showlegend": true,
           "textposition": "auto",
           "type": "bar",
           "x": [
            "GDP(亿元)",
            "一般公共预算支出(亿元)",
            "一般公共预算收入(亿元)",
            "国有资本经营收入(亿元)",
            "地方政府债务余额(亿元)",
            "地方政府债务限额(亿元)",
            "政府性基金收入(亿元)",
            "社会消费品零售总额(亿元)",
            "税收收入(亿元)"
           ],
           "xaxis": "x",
           "y": [
            2616.94,
            276.6737,
            229.2015,
            6.1669,
            366.1595,
            489.1,
            52.7025,
            1366.36,
            216.2471
           ],
           "yaxis": "y"
          }
         ],
         "name": "2020"
        },
        {
         "data": [
          {
           "alignmentgroup": "True",
           "hovertemplate": "地区=青浦区<br>animation_frame=2019<br>level_2=%{x}<br>值=%{y}<extra></extra>",
           "legendgroup": "青浦区",
           "marker": {
            "color": "#FD3216",
            "pattern": {
             "shape": ""
            }
           },
           "name": "青浦区",
           "offsetgroup": "青浦区",
           "orientation": "v",
           "showlegend": true,
           "textposition": "auto",
           "type": "bar",
           "x": [
            "GDP(亿元)",
            "一般公共预算支出(亿元)",
            "一般公共预算收入(亿元)",
            "固定资产投资(亿元)",
            "国有资本经营收入(亿元)",
            "地方政府债务余额(亿元)",
            "地方政府债务限额(亿元)",
            "政府性基金收入(亿元)",
            "社会消费品零售总额(亿元)",
            "税收收入(亿元)"
           ],
           "xaxis": "x",
           "y": [
            1166.25,
            339.9053,
            207.1889,
            591.86,
            0.6093,
            74.4,
            135.4,
            140.7482,
            542.3419,
            179.6561
           ],
           "yaxis": "y"
          },
          {
           "alignmentgroup": "True",
           "hovertemplate": "地区=奉贤区<br>animation_frame=2019<br>level_2=%{x}<br>值=%{y}<extra></extra>",
           "legendgroup": "奉贤区",
           "marker": {
            "color": "#00FE35",
            "pattern": {
             "shape": ""
            }
           },
           "name": "奉贤区",
           "offsetgroup": "奉贤区",
           "orientation": "v",
           "showlegend": true,
           "textposition": "auto",
           "type": "bar",
           "x": [
            "GDP(亿元)",
            "一般公共预算支出(亿元)",
            "一般公共预算收入(亿元)",
            "固定资产投资(亿元)",
            "国有资本经营收入(亿元)",
            "地方政府债务余额(亿元)",
            "地方政府债务限额(亿元)",
            "政府性基金收入(亿元)",
            "社会消费品零售总额(亿元)",
            "税收收入(亿元)"
           ],
           "xaxis": "x",
           "y": [
            1173.2,
            289.1485,
            154.9857,
            466.4,
            1.3279,
            340.41,
            387.5,
            121.232,
            531.4784,
            143.3399
           ],
           "yaxis": "y"
          },
          {
           "alignmentgroup": "True",
           "hovertemplate": "地区=长宁区<br>animation_frame=2019<br>level_2=%{x}<br>值=%{y}<extra></extra>",
           "legendgroup": "长宁区",
           "marker": {
            "color": "#6A76FC",
            "pattern": {
             "shape": ""
            }
           },
           "name": "长宁区",
           "offsetgroup": "长宁区",
           "orientation": "v",
           "showlegend": true,
           "textposition": "auto",
           "type": "bar",
           "x": [
            "GDP(亿元)",
            "一般公共预算支出(亿元)",
            "一般公共预算收入(亿元)",
            "固定资产投资(亿元)",
            "国有资本经营收入(亿元)",
            "地方政府债务余额(亿元)",
            "地方政府债务限额(亿元)",
            "政府性基金收入(亿元)",
            "社会消费品零售总额(亿元)",
            "税收收入(亿元)"
           ],
           "xaxis": "x",
           "y": [
            1649.14,
            162.8568,
            131.6168,
            136.61,
            0.7715,
            93.6516,
            125.3,
            48.0865,
            361.37,
            111.8777
           ],
           "yaxis": "y"
          },
          {
           "alignmentgroup": "True",
           "hovertemplate": "地区=静安区<br>animation_frame=2019<br>level_2=%{x}<br>值=%{y}<extra></extra>",
           "legendgroup": "静安区",
           "marker": {
            "color": "#FED4C4",
            "pattern": {
             "shape": ""
            }
           },
           "name": "静安区",
           "offsetgroup": "静安区",
           "orientation": "v",
           "showlegend": true,
           "textposition": "auto",
           "type": "bar",
           "x": [
            "GDP(亿元)",
            "一般公共预算支出(亿元)",
            "一般公共预算收入(亿元)",
            "固定资产投资(亿元)",
            "国有资本经营收入(亿元)",
            "地方政府债务余额(亿元)",
            "地方政府债务限额(亿元)",
            "政府性基金收入(亿元)",
            "社会消费品零售总额(亿元)",
            "税收收入(亿元)"
           ],
           "xaxis": "x",
           "y": [
            2298.74,
            297.5384,
            247.6258,
            232.61,
            1.0458,
            449.9069,
            597.1,
            112.7179,
            747.9394,
            225.4634
           ],
           "yaxis": "y"
          },
          {
           "alignmentgroup": "True",
           "hovertemplate": "地区=普陀区<br>animation_frame=2019<br>level_2=%{x}<br>值=%{y}<extra></extra>",
           "legendgroup": "普陀区",
           "marker": {
            "color": "#FE00CE",
            "pattern": {
             "shape": ""
            }
           },
           "name": "普陀区",
           "offsetgroup": "普陀区",
           "orientation": "v",
           "showlegend": true,
           "textposition": "auto",
           "type": "bar",
           "x": [
            "GDP(亿元)",
            "一般公共预算支出(亿元)",
            "一般公共预算收入(亿元)",
            "固定资产投资(亿元)",
            "国有资本经营收入(亿元)",
            "地方政府债务余额(亿元)",
            "地方政府债务限额(亿元)",
            "政府性基金收入(亿元)",
            "社会消费品零售总额(亿元)",
            "税收收入(亿元)"
           ],
           "xaxis": "x",
           "y": [
            1111.62,
            179.892,
            110.0717,
            249.86,
            1.2513,
            313.4721,
            351.2,
            51.3856,
            714.05,
            93.0683
           ],
           "yaxis": "y"
          },
          {
           "alignmentgroup": "True",
           "hovertemplate": "地区=虹口区<br>animation_frame=2019<br>level_2=%{x}<br>值=%{y}<extra></extra>",
           "legendgroup": "虹口区",
           "marker": {
            "color": "#0DF9FF",
            "pattern": {
             "shape": ""
            }
           },
           "name": "虹口区",
           "offsetgroup": "虹口区",
           "orientation": "v",
           "showlegend": true,
           "textposition": "auto",
           "type": "bar",
           "x": [
            "GDP(亿元)",
            "一般公共预算支出(亿元)",
            "一般公共预算收入(亿元)",
            "固定资产投资(亿元)",
            "国有资本经营收入(亿元)",
            "地方政府债务余额(亿元)",
            "地方政府债务限额(亿元)",
            "政府性基金收入(亿元)",
            "社会消费品零售总额(亿元)",
            "税收收入(亿元)",
            "转移性收入(亿元)"
           ],
           "xaxis": "x",
           "y": [
            1032.97,
            165.0555,
            117.0018,
            169.05,
            0.6079,
            328.9,
            369.2,
            20.1661,
            349.74,
            105.657,
            90.7062
           ],
           "yaxis": "y"
          },
          {
           "alignmentgroup": "True",
           "hovertemplate": "地区=松江区<br>animation_frame=2019<br>level_2=%{x}<br>值=%{y}<extra></extra>",
           "legendgroup": "松江区",
           "marker": {
            "color": "#F6F926",
            "pattern": {
             "shape": ""
            }
           },
           "name": "松江区",
           "offsetgroup": "松江区",
           "orientation": "v",
           "showlegend": true,
           "textposition": "auto",
           "type": "bar",
           "x": [
            "GDP(亿元)",
            "一般公共预算支出(亿元)",
            "一般公共预算收入(亿元)",
            "固定资产投资(亿元)",
            "国有资本经营收入(亿元)",
            "地方政府债务余额(亿元)",
            "地方政府债务限额(亿元)",
            "政府性基金收入(亿元)",
            "社会消费品零售总额(亿元)",
            "税收收入(亿元)",
            "转移性收入(亿元)"
           ],
           "xaxis": "x",
           "y": [
            1579.71,
            339.4093,
            210.51,
            561.65,
            2.348,
            125.8904,
            238.8,
            116.3706,
            638.9848,
            185.9106,
            171.1
           ],
           "yaxis": "y"
          },
          {
           "alignmentgroup": "True",
           "hovertemplate": "地区=杨浦区<br>animation_frame=2019<br>level_2=%{x}<br>值=%{y}<extra></extra>",
           "legendgroup": "杨浦区",
           "marker": {
            "color": "#FF9616",
            "pattern": {
             "shape": ""
            }
           },
           "name": "杨浦区",
           "offsetgroup": "杨浦区",
           "orientation": "v",
           "showlegend": true,
           "textposition": "auto",
           "type": "bar",
           "x": [
            "GDP(亿元)",
            "一般公共预算支出(亿元)",
            "一般公共预算收入(亿元)",
            "固定资产投资(亿元)",
            "国有资本经营收入(亿元)",
            "地方政府债务余额(亿元)",
            "地方政府债务限额(亿元)",
            "政府性基金收入(亿元)",
            "社会消费品零售总额(亿元)",
            "税收收入(亿元)"
           ],
           "xaxis": "x",
           "y": [
            2083.19,
            216.9429,
            127.1168,
            325.31,
            1.1592,
            361.2448,
            402.7,
            110.5846,
            598.14,
            109.718
           ],
           "yaxis": "y"
          },
          {
           "alignmentgroup": "True",
           "hovertemplate": "地区=嘉定区<br>animation_frame=2019<br>level_2=%{x}<br>值=%{y}<extra></extra>",
           "legendgroup": "嘉定区",
           "marker": {
            "color": "#479B55",
            "pattern": {
             "shape": ""
            }
           },
           "name": "嘉定区",
           "offsetgroup": "嘉定区",
           "orientation": "v",
           "showlegend": true,
           "textposition": "auto",
           "type": "bar",
           "x": [
            "GDP(亿元)",
            "一般公共预算支出(亿元)",
            "一般公共预算收入(亿元)",
            "固定资产投资(亿元)",
            "国有资本经营收入(亿元)",
            "地方政府债务余额(亿元)",
            "地方政府债务限额(亿元)",
            "政府性基金收入(亿元)",
            "社会消费品零售总额(亿元)",
            "税收收入(亿元)",
            "转移性收入(亿元)"
           ],
           "xaxis": "x",
           "y": [
            2608.1,
            356.4564,
            270.7301,
            363.3,
            1.2495,
            339.0567,
            383.2,
            88.8272,
            1480.2246,
            248.8817,
            154.5088
           ],
           "yaxis": "y"
          },
          {
           "alignmentgroup": "True",
           "hovertemplate": "地区=浦东新区<br>animation_frame=2019<br>level_2=%{x}<br>值=%{y}<extra></extra>",
           "legendgroup": "浦东新区",
           "marker": {
            "color": "#EEA6FB",
            "pattern": {
             "shape": ""
            }
           },
           "name": "浦东新区",
           "offsetgroup": "浦东新区",
           "orientation": "v",
           "showlegend": true,
           "textposition": "auto",
           "type": "bar",
           "x": [
            "GDP(亿元)",
            "一般公共预算支出(亿元)",
            "一般公共预算收入(亿元)",
            "固定资产投资(亿元)",
            "国有资本经营收入(亿元)",
            "地方政府债务余额(亿元)",
            "地方政府债务限额(亿元)",
            "政府性基金收入(亿元)",
            "社会消费品零售总额(亿元)",
            "税收收入(亿元)"
           ],
           "xaxis": "x",
           "y": [
            12734.25,
            1341.2675,
            1071.5013,
            2126.06,
            19.592,
            921.0241,
            1379.2,
            337.451,
            3160.6,
            1040.28
           ],
           "yaxis": "y"
          },
          {
           "alignmentgroup": "True",
           "hovertemplate": "地区=宝山区<br>animation_frame=2019<br>level_2=%{x}<br>值=%{y}<extra></extra>",
           "legendgroup": "宝山区",
           "marker": {
            "color": "#DC587D",
            "pattern": {
             "shape": ""
            }
           },
           "name": "宝山区",
           "offsetgroup": "宝山区",
           "orientation": "v",
           "showlegend": true,
           "textposition": "auto",
           "type": "bar",
           "x": [
            "GDP(亿元)",
            "一般公共预算支出(亿元)",
            "一般公共预算收入(亿元)",
            "固定资产投资(亿元)",
            "国有资本经营收入(亿元)",
            "地方政府债务余额(亿元)",
            "地方政府债务限额(亿元)",
            "政府性基金收入(亿元)",
            "社会消费品零售总额(亿元)",
            "税收收入(亿元)"
           ],
           "xaxis": "x",
           "y": [
            1551.51,
            288.8131,
            161,
            555.17,
            0.6902,
            148.9694,
            199.9,
            189.7584,
            739.66,
            141.2576
           ],
           "yaxis": "y"
          },
          {
           "alignmentgroup": "True",
           "hovertemplate": "地区=金山区<br>animation_frame=2019<br>level_2=%{x}<br>值=%{y}<extra></extra>",
           "legendgroup": "金山区",
           "marker": {
            "color": "#D626FF",
            "pattern": {
             "shape": ""
            }
           },
           "name": "金山区",
           "offsetgroup": "金山区",
           "orientation": "v",
           "showlegend": true,
           "textposition": "auto",
           "type": "bar",
           "x": [
            "GDP(亿元)",
            "一般公共预算支出(亿元)",
            "一般公共预算收入(亿元)",
            "固定资产投资(亿元)",
            "国有资本经营收入(亿元)",
            "地方政府债务余额(亿元)",
            "地方政府债务限额(亿元)",
            "政府性基金收入(亿元)",
            "社会消费品零售总额(亿元)",
            "税收收入(亿元)"
           ],
           "xaxis": "x",
           "y": [
            1077.15,
            224.8832,
            126.1398,
            287.9368,
            0.5088,
            331.2401,
            355.7,
            53.4024,
            406.3817,
            111.5849
           ],
           "yaxis": "y"
          },
          {
           "alignmentgroup": "True",
           "hovertemplate": "地区=闵行区<br>animation_frame=2019<br>level_2=%{x}<br>值=%{y}<extra></extra>",
           "legendgroup": "闵行区",
           "marker": {
            "color": "#6E899C",
            "pattern": {
             "shape": ""
            }
           },
           "name": "闵行区",
           "offsetgroup": "闵行区",
           "orientation": "v",
           "showlegend": true,
           "textposition": "auto",
           "type": "bar",
           "x": [
            "GDP(亿元)",
            "一般公共预算支出(亿元)",
            "一般公共预算收入(亿元)",
            "固定资产投资(亿元)",
            "国有资本经营收入(亿元)",
            "地方政府债务余额(亿元)",
            "地方政府债务限额(亿元)",
            "政府性基金收入(亿元)",
            "社会消费品零售总额(亿元)",
            "税收收入(亿元)"
           ],
           "xaxis": "x",
           "y": [
            2520.82,
            401.6,
            297.7,
            668.91,
            0.64,
            453.9,
            535.7,
            179.8,
            1144.8,
            278.1
           ],
           "yaxis": "y"
          },
          {
           "alignmentgroup": "True",
           "hovertemplate": "地区=徐汇区<br>animation_frame=2019<br>level_2=%{x}<br>值=%{y}<extra></extra>",
           "legendgroup": "徐汇区",
           "marker": {
            "color": "#00B5F7",
            "pattern": {
             "shape": ""
            }
           },
           "name": "徐汇区",
           "offsetgroup": "徐汇区",
           "orientation": "v",
           "showlegend": true,
           "textposition": "auto",
           "type": "bar",
           "x": [
            "GDP(亿元)",
            "一般公共预算支出(亿元)",
            "一般公共预算收入(亿元)",
            "固定资产投资(亿元)",
            "国有资本经营收入(亿元)",
            "地方政府债务余额(亿元)",
            "地方政府债务限额(亿元)",
            "政府性基金收入(亿元)",
            "社会消费品零售总额(亿元)",
            "税收收入(亿元)"
           ],
           "xaxis": "x",
           "y": [
            2111.01,
            287.52,
            194.1458,
            238.88,
            0.548,
            120.1,
            234.8,
            97.7229,
            715.9231,
            168.6742
           ],
           "yaxis": "y"
          },
          {
           "alignmentgroup": "True",
           "hovertemplate": "地区=崇明区<br>animation_frame=2019<br>level_2=%{x}<br>值=%{y}<extra></extra>",
           "legendgroup": "崇明区",
           "marker": {
            "color": "#B68E00",
            "pattern": {
             "shape": ""
            }
           },
           "name": "崇明区",
           "offsetgroup": "崇明区",
           "orientation": "v",
           "showlegend": true,
           "textposition": "auto",
           "type": "bar",
           "x": [
            "GDP(亿元)",
            "一般公共预算支出(亿元)",
            "一般公共预算收入(亿元)",
            "固定资产投资(亿元)",
            "国有资本经营收入(亿元)",
            "地方政府债务余额(亿元)",
            "地方政府债务限额(亿元)",
            "政府性基金收入(亿元)",
            "社会消费品零售总额(亿元)",
            "税收收入(亿元)"
           ],
           "xaxis": "x",
           "y": [
            378.51,
            382.681,
            115.0002,
            209.3523,
            0.1021,
            199.8625,
            239.5,
            67.2018,
            137.1,
            105.9753
           ],
           "yaxis": "y"
          },
          {
           "alignmentgroup": "True",
           "hovertemplate": "地区=黄浦区<br>animation_frame=2019<br>level_2=%{x}<br>值=%{y}<extra></extra>",
           "legendgroup": "黄浦区",
           "marker": {
            "color": "#C9FBE5",
            "pattern": {
             "shape": ""
            }
           },
           "name": "黄浦区",
           "offsetgroup": "黄浦区",
           "orientation": "v",
           "showlegend": true,
           "textposition": "auto",
           "type": "bar",
           "x": [
            "GDP(亿元)",
            "一般公共预算支出(亿元)",
            "一般公共预算收入(亿元)",
            "固定资产投资(亿元)",
            "国有资本经营收入(亿元)",
            "地方政府债务余额(亿元)",
            "地方政府债务限额(亿元)",
            "政府性基金收入(亿元)",
            "社会消费品零售总额(亿元)",
            "税收收入(亿元)"
           ],
           "xaxis": "x",
           "y": [
            2577.97,
            276.0128,
            225.729,
            95.12,
            5.7615,
            265.232,
            382.5,
            14.3288,
            882.36,
            214.004
           ],
           "yaxis": "y"
          }
         ],
         "name": "2019"
        }
       ],
       "layout": {
        "barmode": "group",
        "legend": {
         "title": {
          "text": "地区"
         },
         "tracegroupgap": 0
        },
        "margin": {
         "t": 60
        },
        "sliders": [
         {
          "active": 0,
          "currentvalue": {
           "prefix": "animation_frame="
          },
          "len": 0.9,
          "pad": {
           "b": 10,
           "t": 60
          },
          "steps": [
           {
            "args": [
             [
              "2021"
             ],
             {
              "frame": {
               "duration": 0,
               "redraw": true
              },
              "fromcurrent": true,
              "mode": "immediate",
              "transition": {
               "duration": 0,
               "easing": "linear"
              }
             }
            ],
            "label": "2021",
            "method": "animate"
           },
           {
            "args": [
             [
              "2020"
             ],
             {
              "frame": {
               "duration": 0,
               "redraw": true
              },
              "fromcurrent": true,
              "mode": "immediate",
              "transition": {
               "duration": 0,
               "easing": "linear"
              }
             }
            ],
            "label": "2020",
            "method": "animate"
           },
           {
            "args": [
             [
              "2019"
             ],
             {
              "frame": {
               "duration": 0,
               "redraw": true
              },
              "fromcurrent": true,
              "mode": "immediate",
              "transition": {
               "duration": 0,
               "easing": "linear"
              }
             }
            ],
            "label": "2019",
            "method": "animate"
           }
          ],
          "x": 0.1,
          "xanchor": "left",
          "y": 0,
          "yanchor": "top"
         }
        ],
        "template": {
         "data": {
          "bar": [
           {
            "error_x": {
             "color": "rgb(51,51,51)"
            },
            "error_y": {
             "color": "rgb(51,51,51)"
            },
            "marker": {
             "line": {
              "color": "rgb(237,237,237)",
              "width": 0.5
             },
             "pattern": {
              "fillmode": "overlay",
              "size": 10,
              "solidity": 0.2
             }
            },
            "type": "bar"
           }
          ],
          "barpolar": [
           {
            "marker": {
             "line": {
              "color": "rgb(237,237,237)",
              "width": 0.5
             },
             "pattern": {
              "fillmode": "overlay",
              "size": 10,
              "solidity": 0.2
             }
            },
            "type": "barpolar"
           }
          ],
          "carpet": [
           {
            "aaxis": {
             "endlinecolor": "rgb(51,51,51)",
             "gridcolor": "white",
             "linecolor": "white",
             "minorgridcolor": "white",
             "startlinecolor": "rgb(51,51,51)"
            },
            "baxis": {
             "endlinecolor": "rgb(51,51,51)",
             "gridcolor": "white",
             "linecolor": "white",
             "minorgridcolor": "white",
             "startlinecolor": "rgb(51,51,51)"
            },
            "type": "carpet"
           }
          ],
          "choropleth": [
           {
            "colorbar": {
             "outlinewidth": 0,
             "tickcolor": "rgb(237,237,237)",
             "ticklen": 6,
             "ticks": "inside"
            },
            "type": "choropleth"
           }
          ],
          "contour": [
           {
            "colorbar": {
             "outlinewidth": 0,
             "tickcolor": "rgb(237,237,237)",
             "ticklen": 6,
             "ticks": "inside"
            },
            "colorscale": [
             [
              0,
              "rgb(20,44,66)"
             ],
             [
              1,
              "rgb(90,179,244)"
             ]
            ],
            "type": "contour"
           }
          ],
          "contourcarpet": [
           {
            "colorbar": {
             "outlinewidth": 0,
             "tickcolor": "rgb(237,237,237)",
             "ticklen": 6,
             "ticks": "inside"
            },
            "type": "contourcarpet"
           }
          ],
          "heatmap": [
           {
            "colorbar": {
             "outlinewidth": 0,
             "tickcolor": "rgb(237,237,237)",
             "ticklen": 6,
             "ticks": "inside"
            },
            "colorscale": [
             [
              0,
              "rgb(20,44,66)"
             ],
             [
              1,
              "rgb(90,179,244)"
             ]
            ],
            "type": "heatmap"
           }
          ],
          "heatmapgl": [
           {
            "colorbar": {
             "outlinewidth": 0,
             "tickcolor": "rgb(237,237,237)",
             "ticklen": 6,
             "ticks": "inside"
            },
            "colorscale": [
             [
              0,
              "rgb(20,44,66)"
             ],
             [
              1,
              "rgb(90,179,244)"
             ]
            ],
            "type": "heatmapgl"
           }
          ],
          "histogram": [
           {
            "marker": {
             "pattern": {
              "fillmode": "overlay",
              "size": 10,
              "solidity": 0.2
             }
            },
            "type": "histogram"
           }
          ],
          "histogram2d": [
           {
            "colorbar": {
             "outlinewidth": 0,
             "tickcolor": "rgb(237,237,237)",
             "ticklen": 6,
             "ticks": "inside"
            },
            "colorscale": [
             [
              0,
              "rgb(20,44,66)"
             ],
             [
              1,
              "rgb(90,179,244)"
             ]
            ],
            "type": "histogram2d"
           }
          ],
          "histogram2dcontour": [
           {
            "colorbar": {
             "outlinewidth": 0,
             "tickcolor": "rgb(237,237,237)",
             "ticklen": 6,
             "ticks": "inside"
            },
            "colorscale": [
             [
              0,
              "rgb(20,44,66)"
             ],
             [
              1,
              "rgb(90,179,244)"
             ]
            ],
            "type": "histogram2dcontour"
           }
          ],
          "mesh3d": [
           {
            "colorbar": {
             "outlinewidth": 0,
             "tickcolor": "rgb(237,237,237)",
             "ticklen": 6,
             "ticks": "inside"
            },
            "type": "mesh3d"
           }
          ],
          "parcoords": [
           {
            "line": {
             "colorbar": {
              "outlinewidth": 0,
              "tickcolor": "rgb(237,237,237)",
              "ticklen": 6,
              "ticks": "inside"
             }
            },
            "type": "parcoords"
           }
          ],
          "pie": [
           {
            "automargin": true,
            "type": "pie"
           }
          ],
          "scatter": [
           {
            "fillpattern": {
             "fillmode": "overlay",
             "size": 10,
             "solidity": 0.2
            },
            "type": "scatter"
           }
          ],
          "scatter3d": [
           {
            "line": {
             "colorbar": {
              "outlinewidth": 0,
              "tickcolor": "rgb(237,237,237)",
              "ticklen": 6,
              "ticks": "inside"
             }
            },
            "marker": {
             "colorbar": {
              "outlinewidth": 0,
              "tickcolor": "rgb(237,237,237)",
              "ticklen": 6,
              "ticks": "inside"
             }
            },
            "type": "scatter3d"
           }
          ],
          "scattercarpet": [
           {
            "marker": {
             "colorbar": {
              "outlinewidth": 0,
              "tickcolor": "rgb(237,237,237)",
              "ticklen": 6,
              "ticks": "inside"
             }
            },
            "type": "scattercarpet"
           }
          ],
          "scattergeo": [
           {
            "marker": {
             "colorbar": {
              "outlinewidth": 0,
              "tickcolor": "rgb(237,237,237)",
              "ticklen": 6,
              "ticks": "inside"
             }
            },
            "type": "scattergeo"
           }
          ],
          "scattergl": [
           {
            "marker": {
             "colorbar": {
              "outlinewidth": 0,
              "tickcolor": "rgb(237,237,237)",
              "ticklen": 6,
              "ticks": "inside"
             }
            },
            "type": "scattergl"
           }
          ],
          "scattermapbox": [
           {
            "marker": {
             "colorbar": {
              "outlinewidth": 0,
              "tickcolor": "rgb(237,237,237)",
              "ticklen": 6,
              "ticks": "inside"
             }
            },
            "type": "scattermapbox"
           }
          ],
          "scatterpolar": [
           {
            "marker": {
             "colorbar": {
              "outlinewidth": 0,
              "tickcolor": "rgb(237,237,237)",
              "ticklen": 6,
              "ticks": "inside"
             }
            },
            "type": "scatterpolar"
           }
          ],
          "scatterpolargl": [
           {
            "marker": {
             "colorbar": {
              "outlinewidth": 0,
              "tickcolor": "rgb(237,237,237)",
              "ticklen": 6,
              "ticks": "inside"
             }
            },
            "type": "scatterpolargl"
           }
          ],
          "scatterternary": [
           {
            "marker": {
             "colorbar": {
              "outlinewidth": 0,
              "tickcolor": "rgb(237,237,237)",
              "ticklen": 6,
              "ticks": "inside"
             }
            },
            "type": "scatterternary"
           }
          ],
          "surface": [
           {
            "colorbar": {
             "outlinewidth": 0,
             "tickcolor": "rgb(237,237,237)",
             "ticklen": 6,
             "ticks": "inside"
            },
            "colorscale": [
             [
              0,
              "rgb(20,44,66)"
             ],
             [
              1,
              "rgb(90,179,244)"
             ]
            ],
            "type": "surface"
           }
          ],
          "table": [
           {
            "cells": {
             "fill": {
              "color": "rgb(237,237,237)"
             },
             "line": {
              "color": "white"
             }
            },
            "header": {
             "fill": {
              "color": "rgb(217,217,217)"
             },
             "line": {
              "color": "white"
             }
            },
            "type": "table"
           }
          ]
         },
         "layout": {
          "annotationdefaults": {
           "arrowhead": 0,
           "arrowwidth": 1
          },
          "autotypenumbers": "strict",
          "coloraxis": {
           "colorbar": {
            "outlinewidth": 0,
            "tickcolor": "rgb(237,237,237)",
            "ticklen": 6,
            "ticks": "inside"
           }
          },
          "colorscale": {
           "sequential": [
            [
             0,
             "rgb(20,44,66)"
            ],
            [
             1,
             "rgb(90,179,244)"
            ]
           ],
           "sequentialminus": [
            [
             0,
             "rgb(20,44,66)"
            ],
            [
             1,
             "rgb(90,179,244)"
            ]
           ]
          },
          "colorway": [
           "#F8766D",
           "#A3A500",
           "#00BF7D",
           "#00B0F6",
           "#E76BF3"
          ],
          "font": {
           "color": "rgb(51,51,51)"
          },
          "geo": {
           "bgcolor": "white",
           "lakecolor": "white",
           "landcolor": "rgb(237,237,237)",
           "showlakes": true,
           "showland": true,
           "subunitcolor": "white"
          },
          "hoverlabel": {
           "align": "left"
          },
          "hovermode": "closest",
          "paper_bgcolor": "white",
          "plot_bgcolor": "rgb(237,237,237)",
          "polar": {
           "angularaxis": {
            "gridcolor": "white",
            "linecolor": "white",
            "showgrid": true,
            "tickcolor": "rgb(51,51,51)",
            "ticks": "outside"
           },
           "bgcolor": "rgb(237,237,237)",
           "radialaxis": {
            "gridcolor": "white",
            "linecolor": "white",
            "showgrid": true,
            "tickcolor": "rgb(51,51,51)",
            "ticks": "outside"
           }
          },
          "scene": {
           "xaxis": {
            "backgroundcolor": "rgb(237,237,237)",
            "gridcolor": "white",
            "gridwidth": 2,
            "linecolor": "white",
            "showbackground": true,
            "showgrid": true,
            "tickcolor": "rgb(51,51,51)",
            "ticks": "outside",
            "zerolinecolor": "white"
           },
           "yaxis": {
            "backgroundcolor": "rgb(237,237,237)",
            "gridcolor": "white",
            "gridwidth": 2,
            "linecolor": "white",
            "showbackground": true,
            "showgrid": true,
            "tickcolor": "rgb(51,51,51)",
            "ticks": "outside",
            "zerolinecolor": "white"
           },
           "zaxis": {
            "backgroundcolor": "rgb(237,237,237)",
            "gridcolor": "white",
            "gridwidth": 2,
            "linecolor": "white",
            "showbackground": true,
            "showgrid": true,
            "tickcolor": "rgb(51,51,51)",
            "ticks": "outside",
            "zerolinecolor": "white"
           }
          },
          "shapedefaults": {
           "fillcolor": "black",
           "line": {
            "width": 0
           },
           "opacity": 0.3
          },
          "ternary": {
           "aaxis": {
            "gridcolor": "white",
            "linecolor": "white",
            "showgrid": true,
            "tickcolor": "rgb(51,51,51)",
            "ticks": "outside"
           },
           "baxis": {
            "gridcolor": "white",
            "linecolor": "white",
            "showgrid": true,
            "tickcolor": "rgb(51,51,51)",
            "ticks": "outside"
           },
           "bgcolor": "rgb(237,237,237)",
           "caxis": {
            "gridcolor": "white",
            "linecolor": "white",
            "showgrid": true,
            "tickcolor": "rgb(51,51,51)",
            "ticks": "outside"
           }
          },
          "xaxis": {
           "automargin": true,
           "gridcolor": "white",
           "linecolor": "white",
           "showgrid": true,
           "tickcolor": "rgb(51,51,51)",
           "ticks": "outside",
           "title": {
            "standoff": 15
           },
           "zerolinecolor": "white"
          },
          "yaxis": {
           "automargin": true,
           "gridcolor": "white",
           "linecolor": "white",
           "showgrid": true,
           "tickcolor": "rgb(51,51,51)",
           "ticks": "outside",
           "title": {
            "standoff": 15
           },
           "zerolinecolor": "white"
          }
         }
        },
        "updatemenus": [
         {
          "buttons": [
           {
            "args": [
             null,
             {
              "frame": {
               "duration": 500,
               "redraw": true
              },
              "fromcurrent": true,
              "mode": "immediate",
              "transition": {
               "duration": 500,
               "easing": "linear"
              }
             }
            ],
            "label": "&#9654;",
            "method": "animate"
           },
           {
            "args": [
             [
              null
             ],
             {
              "frame": {
               "duration": 0,
               "redraw": true
              },
              "fromcurrent": true,
              "mode": "immediate",
              "transition": {
               "duration": 0,
               "easing": "linear"
              }
             }
            ],
            "label": "&#9724;",
            "method": "animate"
           }
          ],
          "direction": "left",
          "pad": {
           "r": 10,
           "t": 70
          },
          "showactive": false,
          "type": "buttons",
          "x": 0.1,
          "xanchor": "right",
          "y": 0,
          "yanchor": "top"
         }
        ],
        "xaxis": {
         "anchor": "y",
         "domain": [
          0,
          1
         ],
         "title": {
          "text": "level_2"
         }
        },
        "yaxis": {
         "anchor": "x",
         "domain": [
          0,
          1
         ],
         "title": {
          "text": "值"
         },
         "type": "log"
        }
       }
      }
     },
     "metadata": {},
     "output_type": "display_data"
    }
   ],
   "source": [
    "import numpy as np\n",
    "import pandas as pd\n",
    "import plotly.express as px\n",
    "import plotly.graph_objects as go\n",
    "from plotly.subplots import make_subplots\n",
    "import plotly.io as pio\n",
    "\n",
    "pio.templates.default=\"ggplot2\"\n",
    "\n",
    "#@ 排除无数据项的列\n",
    "firstData=pd.read_excel(\n",
    "    \"E:\\\\PythonProject\\\\Data\\\\1.xlsx\",\n",
    "    \"Sheet1\").drop(\n",
    "    [\"地区代码\",\n",
    "    \"社会消费品零售总额增速(%)\",\n",
    "    \"房地产开发投资(亿元)\",\n",
    "    \"工业增加值(亿元)\",\n",
    "    \"进出口总额(亿元)\",\n",
    "    \"出口总额(亿元)\",\n",
    "    \"进口总额(亿元)\"\n",
    "    ],\n",
    "    axis=1)\n",
    "\n",
    "###################! 分割出单位为元的数据\n",
    "GDPData=firstData.copy().iloc[:,[0,1,3,5]]\n",
    "###################\n",
    "###################! 分割出单位为百分比的数据\n",
    "percentData=firstData.copy().iloc[:,[0,1,6,19,20,21,22,23]]\n",
    "###################\n",
    "###################! 分割出单位为万人的数据\n",
    "personData=firstData.copy().iloc[:,[0,1,13,14,15]]\n",
    "###################\n",
    "###################! 剩下数据单位为亿元\n",
    "otherData=firstData.copy().drop(\n",
    "    [\"城镇居民人均可支配收入(元)\",\n",
    "    \"人均GDP(元)\",\n",
    "    \"GDP增速(%)\",\n",
    "    \"常住人口(万人)\",\n",
    "    \"户籍人口(万人)\",\n",
    "    \"总人口(万人)\",\n",
    "    \"财政自给率(%)\",\n",
    "    \"负债率(%)\",\n",
    "    \"负债率(宽口径)(%)\",\n",
    "    \"债务率(%)\",\n",
    "    \"债务率(宽口径)(%)\"\n",
    "    ],\n",
    "    axis=1\n",
    ")\n",
    "\n",
    "#@ 长宽数据转换，便于绘图，上述其他数据也可采用此种方式\n",
    "otherData = otherData.set_index(['地区',\"年份\"]) #设索引\n",
    "otherData = otherData.stack() #将列转化为二级索引\n",
    "#! 此处level参数可能会报错，可以忽略直接运行\n",
    "otherData.index = otherData.index.rename(\"年份\",level=1) #二级索引命令\n",
    "otherData.name = '值'\n",
    "otherData = otherData.reset_index() #将索引转化为Series\n",
    "otherData=otherData.sort_values(by='level_2',ascending=True)\n",
    "\n",
    "#* 后续可对其他数据进行可视化\n",
    "px.bar(\n",
    "    otherData,\n",
    "    x=\"level_2\",\n",
    "    y=\"值\",\n",
    "    log_y=True,\n",
    "    color=\"地区\",\n",
    "    barmode=\"group\",\n",
    "    animation_frame=otherData.年份.astype(str),\n",
    "    color_discrete_sequence=px.colors.qualitative.Light24\n",
    ")"
   ]
  }
 ],
 "metadata": {
  "kernelspec": {
   "display_name": "Python 3.9.12 ('base')",
   "language": "python",
   "name": "python3"
  },
  "language_info": {
   "codemirror_mode": {
    "name": "ipython",
    "version": 3
   },
   "file_extension": ".py",
   "mimetype": "text/x-python",
   "name": "python",
   "nbconvert_exporter": "python",
   "pygments_lexer": "ipython3",
   "version": "3.9.12"
  },
  "orig_nbformat": 4,
  "vscode": {
   "interpreter": {
    "hash": "f8b40d688a12481f01eadf7380c47edd8a49484a47dba3db091451640e880c68"
   }
  }
 },
 "nbformat": 4,
 "nbformat_minor": 2
}
